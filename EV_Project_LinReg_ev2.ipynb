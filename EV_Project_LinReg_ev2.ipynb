{
 "cells": [
  {
   "cell_type": "markdown",
   "metadata": {
    "collapsed": true
   },
   "source": [
    "## Individual DF Models\n",
    "\n",
    "#### Overview\n",
    "\n",
    "Majority of updates in the data.gov csv were made in August 2017\n",
    "\n",
    "Total number of charge stations = 53301\n",
    "\n",
    "ev_total (mean) = 2.68 > charge stations per location\n",
    "\n",
    "evdcfastcount > DC Fast Chargers % of total = 12%\n",
    "\n",
    "evlevel1evsenum > Level 1 EVSE (standard 110V outlet) % of total = 6%\n",
    "\n",
    "evlevel2evsenum > Level 2 EVSE (J1772 connector) % of total = 82%\n"
   ]
  },
  {
   "cell_type": "markdown",
   "metadata": {},
   "source": [
    "### Import and Format"
   ]
  },
  {
   "cell_type": "code",
   "execution_count": 7,
   "metadata": {
    "collapsed": true
   },
   "outputs": [],
   "source": [
    "import pandas as pd\n",
    "import matplotlib.pyplot as plt\n",
    "import seaborn as sns\n",
    "\n",
    "%matplotlib inline"
   ]
  },
  {
   "cell_type": "markdown",
   "metadata": {},
   "source": [
    "#### Import 2 New DFs Saved Locally in CSV format (data.gov > ev data / cencus.gov > state, city, population"
   ]
  },
  {
   "cell_type": "code",
   "execution_count": 29,
   "metadata": {
    "collapsed": true,
    "scrolled": true
   },
   "outputs": [],
   "source": [
    "df_ev = pd.read_csv('ev_new.csv', error_bad_lines=False, index_col=False, dtype='unicode')"
   ]
  },
  {
   "cell_type": "code",
   "execution_count": 30,
   "metadata": {
    "collapsed": true
   },
   "outputs": [],
   "source": [
    "df_ev_pop = pd.read_csv('ev_citystatepop.csv', error_bad_lines=False, index_col=False, dtype='unicode')"
   ]
  },
  {
   "cell_type": "code",
   "execution_count": 31,
   "metadata": {},
   "outputs": [
    {
     "data": {
      "text/html": [
       "<div>\n",
       "<style>\n",
       "    .dataframe thead tr:only-child th {\n",
       "        text-align: right;\n",
       "    }\n",
       "\n",
       "    .dataframe thead th {\n",
       "        text-align: left;\n",
       "    }\n",
       "\n",
       "    .dataframe tbody tr th {\n",
       "        vertical-align: top;\n",
       "    }\n",
       "</style>\n",
       "<table border=\"1\" class=\"dataframe\">\n",
       "  <thead>\n",
       "    <tr style=\"text-align: right;\">\n",
       "      <th></th>\n",
       "      <th>id</th>\n",
       "      <th>citystate</th>\n",
       "      <th>city</th>\n",
       "      <th>state</th>\n",
       "      <th>evdcfastcount</th>\n",
       "      <th>evlevel1evsenum</th>\n",
       "      <th>evlevel2evsenum</th>\n",
       "      <th>ev_total</th>\n",
       "    </tr>\n",
       "  </thead>\n",
       "  <tbody>\n",
       "    <tr>\n",
       "      <th>0</th>\n",
       "      <td>19458</td>\n",
       "      <td>AbbotsfordWI</td>\n",
       "      <td>Abbotsford</td>\n",
       "      <td>WI</td>\n",
       "      <td>0</td>\n",
       "      <td>1</td>\n",
       "      <td>0</td>\n",
       "      <td>1</td>\n",
       "    </tr>\n",
       "  </tbody>\n",
       "</table>\n",
       "</div>"
      ],
      "text/plain": [
       "      id     citystate        city state evdcfastcount evlevel1evsenum  \\\n",
       "0  19458  AbbotsfordWI  Abbotsford    WI             0               1   \n",
       "\n",
       "  evlevel2evsenum ev_total  \n",
       "0               0        1  "
      ]
     },
     "execution_count": 31,
     "metadata": {},
     "output_type": "execute_result"
    }
   ],
   "source": [
    "df_ev.head(1)"
   ]
  },
  {
   "cell_type": "code",
   "execution_count": 32,
   "metadata": {
    "collapsed": true
   },
   "outputs": [],
   "source": [
    "# df_ev_drop = df_ev.drop(['id', 'city', 'state'], axis=1)\n",
    "df_ev_drop = df_ev.drop(['city', 'state'], axis=1)"
   ]
  },
  {
   "cell_type": "code",
   "execution_count": 33,
   "metadata": {},
   "outputs": [
    {
     "data": {
      "text/plain": [
       "id                 object\n",
       "citystate          object\n",
       "evdcfastcount      object\n",
       "evlevel1evsenum    object\n",
       "evlevel2evsenum    object\n",
       "ev_total           object\n",
       "dtype: object"
      ]
     },
     "execution_count": 33,
     "metadata": {},
     "output_type": "execute_result"
    }
   ],
   "source": [
    "df_ev_drop.dtypes"
   ]
  },
  {
   "cell_type": "code",
   "execution_count": 77,
   "metadata": {
    "collapsed": true
   },
   "outputs": [],
   "source": [
    "df_ev_drop[('evdcfastcount')] = df_ev_drop[('evdcfastcount')].astype(int)\n",
    "df_ev_drop[('evlevel1evsenum')] = df_ev_drop[('evlevel1evsenum')].astype(int)\n",
    "df_ev_drop[('evlevel2evsenum')] = df_ev_drop[('evlevel2evsenum')].astype(int)\n",
    "df_ev_drop[('ev_total')] = df_ev_drop[('ev_total')].astype(int)\n",
    "df_ev_drop[('id')] = df_ev_drop[('id')].astype(int)"
   ]
  },
  {
   "cell_type": "code",
   "execution_count": 78,
   "metadata": {},
   "outputs": [],
   "source": [
    "df_ev_drop.evdcfastcount.fillna(value=0, inplace=True)\n",
    "df_ev_drop.evlevel1evsenum.fillna(value=0, inplace=True)\n",
    "df_ev_drop.evlevel2evsenum.fillna(value=0, inplace=True)"
   ]
  },
  {
   "cell_type": "code",
   "execution_count": 79,
   "metadata": {},
   "outputs": [
    {
     "data": {
      "text/plain": [
       "id                  int32\n",
       "citystate          object\n",
       "evdcfastcount       int32\n",
       "evlevel1evsenum     int32\n",
       "evlevel2evsenum     int32\n",
       "ev_total            int32\n",
       "dtype: object"
      ]
     },
     "execution_count": 79,
     "metadata": {},
     "output_type": "execute_result"
    }
   ],
   "source": [
    "df_ev_drop.dtypes"
   ]
  },
  {
   "cell_type": "code",
   "execution_count": 63,
   "metadata": {
    "collapsed": true
   },
   "outputs": [],
   "source": [
    "# df_ev_pop['citystate'] = df_ev_pop['citystatepop']"
   ]
  },
  {
   "cell_type": "code",
   "execution_count": 37,
   "metadata": {
    "collapsed": true
   },
   "outputs": [
    {
     "data": {
      "text/html": [
       "<div>\n",
       "<style>\n",
       "    .dataframe thead tr:only-child th {\n",
       "        text-align: right;\n",
       "    }\n",
       "\n",
       "    .dataframe thead th {\n",
       "        text-align: left;\n",
       "    }\n",
       "\n",
       "    .dataframe tbody tr th {\n",
       "        vertical-align: top;\n",
       "    }\n",
       "</style>\n",
       "<table border=\"1\" class=\"dataframe\">\n",
       "  <thead>\n",
       "    <tr style=\"text-align: right;\">\n",
       "      <th></th>\n",
       "      <th>citystate</th>\n",
       "      <th>pop</th>\n",
       "    </tr>\n",
       "  </thead>\n",
       "  <tbody>\n",
       "    <tr>\n",
       "      <th>0</th>\n",
       "      <td>AbbevilleAL</td>\n",
       "      <td>2603</td>\n",
       "    </tr>\n",
       "  </tbody>\n",
       "</table>\n",
       "</div>"
      ],
      "text/plain": [
       "     citystate   pop\n",
       "0  AbbevilleAL  2603"
      ]
     },
     "execution_count": 37,
     "metadata": {},
     "output_type": "execute_result"
    }
   ],
   "source": [
    "df_ev_pop.head(1)"
   ]
  },
  {
   "cell_type": "code",
   "execution_count": 38,
   "metadata": {
    "collapsed": true
   },
   "outputs": [
    {
     "data": {
      "text/plain": [
       "citystate    object\n",
       "pop          object\n",
       "dtype: object"
      ]
     },
     "execution_count": 38,
     "metadata": {},
     "output_type": "execute_result"
    }
   ],
   "source": [
    "df_ev_pop.dtypes"
   ]
  },
  {
   "cell_type": "code",
   "execution_count": 39,
   "metadata": {
    "collapsed": true
   },
   "outputs": [],
   "source": [
    "df_ev_pop[('citystate')] = df_ev_pop[('citystate')].astype(str)\n",
    "df_ev_pop[('pop')] = df_ev_pop[('pop')].astype(int)"
   ]
  },
  {
   "cell_type": "code",
   "execution_count": 40,
   "metadata": {
    "collapsed": true
   },
   "outputs": [
    {
     "data": {
      "text/plain": [
       "citystate    object\n",
       "pop           int32\n",
       "dtype: object"
      ]
     },
     "execution_count": 40,
     "metadata": {},
     "output_type": "execute_result"
    }
   ],
   "source": [
    "df_ev_pop.dtypes"
   ]
  },
  {
   "cell_type": "markdown",
   "metadata": {},
   "source": [
    "#### Set index of both DFs to 'citystate' to merge on"
   ]
  },
  {
   "cell_type": "code",
   "execution_count": 80,
   "metadata": {
    "collapsed": true
   },
   "outputs": [],
   "source": [
    "# df.set_index('Locality', inplace=True)\n",
    "df_ev_drop2 = df_ev_drop.set_index('citystate')"
   ]
  },
  {
   "cell_type": "code",
   "execution_count": 81,
   "metadata": {
    "collapsed": true
   },
   "outputs": [
    {
     "data": {
      "text/html": [
       "<div>\n",
       "<style>\n",
       "    .dataframe thead tr:only-child th {\n",
       "        text-align: right;\n",
       "    }\n",
       "\n",
       "    .dataframe thead th {\n",
       "        text-align: left;\n",
       "    }\n",
       "\n",
       "    .dataframe tbody tr th {\n",
       "        vertical-align: top;\n",
       "    }\n",
       "</style>\n",
       "<table border=\"1\" class=\"dataframe\">\n",
       "  <thead>\n",
       "    <tr style=\"text-align: right;\">\n",
       "      <th></th>\n",
       "      <th>id</th>\n",
       "      <th>evdcfastcount</th>\n",
       "      <th>evlevel1evsenum</th>\n",
       "      <th>evlevel2evsenum</th>\n",
       "      <th>ev_total</th>\n",
       "    </tr>\n",
       "    <tr>\n",
       "      <th>citystate</th>\n",
       "      <th></th>\n",
       "      <th></th>\n",
       "      <th></th>\n",
       "      <th></th>\n",
       "      <th></th>\n",
       "    </tr>\n",
       "  </thead>\n",
       "  <tbody>\n",
       "    <tr>\n",
       "      <th>AbbotsfordWI</th>\n",
       "      <td>19458</td>\n",
       "      <td>0</td>\n",
       "      <td>1</td>\n",
       "      <td>0</td>\n",
       "      <td>1</td>\n",
       "    </tr>\n",
       "    <tr>\n",
       "      <th>AberdeenMD</th>\n",
       "      <td>19380</td>\n",
       "      <td>0</td>\n",
       "      <td>0</td>\n",
       "      <td>2</td>\n",
       "      <td>2</td>\n",
       "    </tr>\n",
       "    <tr>\n",
       "      <th>AberdeenNC</th>\n",
       "      <td>27534</td>\n",
       "      <td>0</td>\n",
       "      <td>0</td>\n",
       "      <td>2</td>\n",
       "      <td>2</td>\n",
       "    </tr>\n",
       "    <tr>\n",
       "      <th>AberdeenNC</th>\n",
       "      <td>27574</td>\n",
       "      <td>0</td>\n",
       "      <td>0</td>\n",
       "      <td>4</td>\n",
       "      <td>4</td>\n",
       "    </tr>\n",
       "    <tr>\n",
       "      <th>AberdeenNC</th>\n",
       "      <td>27586</td>\n",
       "      <td>0</td>\n",
       "      <td>0</td>\n",
       "      <td>4</td>\n",
       "      <td>4</td>\n",
       "    </tr>\n",
       "  </tbody>\n",
       "</table>\n",
       "</div>"
      ],
      "text/plain": [
       "                 id  evdcfastcount  evlevel1evsenum  evlevel2evsenum  ev_total\n",
       "citystate                                                                     \n",
       "AbbotsfordWI  19458              0                1                0         1\n",
       "AberdeenMD    19380              0                0                2         2\n",
       "AberdeenNC    27534              0                0                2         2\n",
       "AberdeenNC    27574              0                0                4         4\n",
       "AberdeenNC    27586              0                0                4         4"
      ]
     },
     "execution_count": 81,
     "metadata": {},
     "output_type": "execute_result"
    }
   ],
   "source": [
    "df_ev_drop2 .head()"
   ]
  },
  {
   "cell_type": "code",
   "execution_count": 82,
   "metadata": {
    "collapsed": true
   },
   "outputs": [],
   "source": [
    "df_ev_pop2 = df_ev_pop.set_index('citystate')"
   ]
  },
  {
   "cell_type": "code",
   "execution_count": 83,
   "metadata": {
    "collapsed": true
   },
   "outputs": [
    {
     "data": {
      "text/html": [
       "<div>\n",
       "<style>\n",
       "    .dataframe thead tr:only-child th {\n",
       "        text-align: right;\n",
       "    }\n",
       "\n",
       "    .dataframe thead th {\n",
       "        text-align: left;\n",
       "    }\n",
       "\n",
       "    .dataframe tbody tr th {\n",
       "        vertical-align: top;\n",
       "    }\n",
       "</style>\n",
       "<table border=\"1\" class=\"dataframe\">\n",
       "  <thead>\n",
       "    <tr style=\"text-align: right;\">\n",
       "      <th></th>\n",
       "      <th>pop</th>\n",
       "    </tr>\n",
       "    <tr>\n",
       "      <th>citystate</th>\n",
       "      <th></th>\n",
       "    </tr>\n",
       "  </thead>\n",
       "  <tbody>\n",
       "    <tr>\n",
       "      <th>AbbevilleAL</th>\n",
       "      <td>2603</td>\n",
       "    </tr>\n",
       "  </tbody>\n",
       "</table>\n",
       "</div>"
      ],
      "text/plain": [
       "              pop\n",
       "citystate        \n",
       "AbbevilleAL  2603"
      ]
     },
     "execution_count": 83,
     "metadata": {},
     "output_type": "execute_result"
    }
   ],
   "source": [
    "df_ev_pop2.head(1)"
   ]
  },
  {
   "cell_type": "markdown",
   "metadata": {},
   "source": [
    "#### Merge on 'citystate' to introduce population into the data set"
   ]
  },
  {
   "cell_type": "code",
   "execution_count": 84,
   "metadata": {
    "collapsed": true
   },
   "outputs": [],
   "source": [
    "df_ev_merge = pd.merge(df_ev_drop2, df_ev_pop2, right_index=True, left_index=True)"
   ]
  },
  {
   "cell_type": "code",
   "execution_count": 85,
   "metadata": {
    "scrolled": true
   },
   "outputs": [
    {
     "data": {
      "text/html": [
       "<div>\n",
       "<style>\n",
       "    .dataframe thead tr:only-child th {\n",
       "        text-align: right;\n",
       "    }\n",
       "\n",
       "    .dataframe thead th {\n",
       "        text-align: left;\n",
       "    }\n",
       "\n",
       "    .dataframe tbody tr th {\n",
       "        vertical-align: top;\n",
       "    }\n",
       "</style>\n",
       "<table border=\"1\" class=\"dataframe\">\n",
       "  <thead>\n",
       "    <tr style=\"text-align: right;\">\n",
       "      <th></th>\n",
       "      <th>id</th>\n",
       "      <th>evdcfastcount</th>\n",
       "      <th>evlevel1evsenum</th>\n",
       "      <th>evlevel2evsenum</th>\n",
       "      <th>ev_total</th>\n",
       "      <th>pop</th>\n",
       "    </tr>\n",
       "    <tr>\n",
       "      <th>citystate</th>\n",
       "      <th></th>\n",
       "      <th></th>\n",
       "      <th></th>\n",
       "      <th></th>\n",
       "      <th></th>\n",
       "      <th></th>\n",
       "    </tr>\n",
       "  </thead>\n",
       "  <tbody>\n",
       "    <tr>\n",
       "      <th>AbbotsfordWI</th>\n",
       "      <td>19458</td>\n",
       "      <td>0</td>\n",
       "      <td>1</td>\n",
       "      <td>0</td>\n",
       "      <td>1</td>\n",
       "      <td>2259</td>\n",
       "    </tr>\n",
       "    <tr>\n",
       "      <th>AberdeenMD</th>\n",
       "      <td>19380</td>\n",
       "      <td>0</td>\n",
       "      <td>0</td>\n",
       "      <td>2</td>\n",
       "      <td>2</td>\n",
       "      <td>15612</td>\n",
       "    </tr>\n",
       "    <tr>\n",
       "      <th>AberdeenNC</th>\n",
       "      <td>27534</td>\n",
       "      <td>0</td>\n",
       "      <td>0</td>\n",
       "      <td>2</td>\n",
       "      <td>2</td>\n",
       "      <td>7502</td>\n",
       "    </tr>\n",
       "    <tr>\n",
       "      <th>AberdeenNC</th>\n",
       "      <td>27574</td>\n",
       "      <td>0</td>\n",
       "      <td>0</td>\n",
       "      <td>4</td>\n",
       "      <td>4</td>\n",
       "      <td>7502</td>\n",
       "    </tr>\n",
       "    <tr>\n",
       "      <th>AberdeenNC</th>\n",
       "      <td>27586</td>\n",
       "      <td>0</td>\n",
       "      <td>0</td>\n",
       "      <td>4</td>\n",
       "      <td>4</td>\n",
       "      <td>7502</td>\n",
       "    </tr>\n",
       "  </tbody>\n",
       "</table>\n",
       "</div>"
      ],
      "text/plain": [
       "                 id  evdcfastcount  evlevel1evsenum  evlevel2evsenum  \\\n",
       "citystate                                                              \n",
       "AbbotsfordWI  19458              0                1                0   \n",
       "AberdeenMD    19380              0                0                2   \n",
       "AberdeenNC    27534              0                0                2   \n",
       "AberdeenNC    27574              0                0                4   \n",
       "AberdeenNC    27586              0                0                4   \n",
       "\n",
       "              ev_total    pop  \n",
       "citystate                      \n",
       "AbbotsfordWI         1   2259  \n",
       "AberdeenMD           2  15612  \n",
       "AberdeenNC           2   7502  \n",
       "AberdeenNC           4   7502  \n",
       "AberdeenNC           4   7502  "
      ]
     },
     "execution_count": 85,
     "metadata": {},
     "output_type": "execute_result"
    }
   ],
   "source": [
    "df_ev_merge.head()"
   ]
  },
  {
   "cell_type": "code",
   "execution_count": 86,
   "metadata": {
    "collapsed": true
   },
   "outputs": [
    {
     "data": {
      "text/plain": [
       "id                 0\n",
       "evdcfastcount      0\n",
       "evlevel1evsenum    0\n",
       "evlevel2evsenum    0\n",
       "ev_total           0\n",
       "pop                0\n",
       "dtype: int64"
      ]
     },
     "execution_count": 86,
     "metadata": {},
     "output_type": "execute_result"
    }
   ],
   "source": [
    "df_ev_merge.isnull().sum()"
   ]
  },
  {
   "cell_type": "code",
   "execution_count": 88,
   "metadata": {},
   "outputs": [
    {
     "data": {
      "text/plain": [
       "(16617, 6)"
      ]
     },
     "execution_count": 88,
     "metadata": {},
     "output_type": "execute_result"
    }
   ],
   "source": [
    "df_ev_merge.shape"
   ]
  },
  {
   "cell_type": "code",
   "execution_count": 93,
   "metadata": {
    "collapsed": true
   },
   "outputs": [],
   "source": [
    "df_ev_grouped = df_ev_merge.groupby(['citystate', 'pop']).sum()"
   ]
  },
  {
   "cell_type": "code",
   "execution_count": 127,
   "metadata": {
    "collapsed": true
   },
   "outputs": [],
   "source": [
    "\n",
    "# IMPORTANT > 'pop' and 'id' are now a sub DFs. \n",
    "# Must add a new column that converts it them to int before they can be used in a model (pop_x) / (id_x)\n"
   ]
  },
  {
   "cell_type": "code",
   "execution_count": 112,
   "metadata": {},
   "outputs": [
    {
     "data": {
      "text/html": [
       "<div>\n",
       "<style>\n",
       "    .dataframe thead tr:only-child th {\n",
       "        text-align: right;\n",
       "    }\n",
       "\n",
       "    .dataframe thead th {\n",
       "        text-align: left;\n",
       "    }\n",
       "\n",
       "    .dataframe tbody tr th {\n",
       "        vertical-align: top;\n",
       "    }\n",
       "</style>\n",
       "<table border=\"1\" class=\"dataframe\">\n",
       "  <thead>\n",
       "    <tr style=\"text-align: right;\">\n",
       "      <th></th>\n",
       "      <th></th>\n",
       "      <th>id</th>\n",
       "      <th>evdcfastcount</th>\n",
       "      <th>evlevel1evsenum</th>\n",
       "      <th>evlevel2evsenum</th>\n",
       "      <th>ev_total</th>\n",
       "    </tr>\n",
       "    <tr>\n",
       "      <th>citystate</th>\n",
       "      <th>pop</th>\n",
       "      <th></th>\n",
       "      <th></th>\n",
       "      <th></th>\n",
       "      <th></th>\n",
       "      <th></th>\n",
       "    </tr>\n",
       "  </thead>\n",
       "  <tbody>\n",
       "    <tr>\n",
       "      <th>AbbotsfordWI</th>\n",
       "      <th>2259</th>\n",
       "      <td>19458</td>\n",
       "      <td>0</td>\n",
       "      <td>1</td>\n",
       "      <td>0</td>\n",
       "      <td>1</td>\n",
       "    </tr>\n",
       "    <tr>\n",
       "      <th>AberdeenMD</th>\n",
       "      <th>15612</th>\n",
       "      <td>19380</td>\n",
       "      <td>0</td>\n",
       "      <td>0</td>\n",
       "      <td>2</td>\n",
       "      <td>2</td>\n",
       "    </tr>\n",
       "    <tr>\n",
       "      <th>AberdeenNC</th>\n",
       "      <th>7502</th>\n",
       "      <td>82694</td>\n",
       "      <td>0</td>\n",
       "      <td>0</td>\n",
       "      <td>10</td>\n",
       "      <td>10</td>\n",
       "    </tr>\n",
       "    <tr>\n",
       "      <th>AberdeenSD</th>\n",
       "      <th>28415</th>\n",
       "      <td>53098</td>\n",
       "      <td>0</td>\n",
       "      <td>0</td>\n",
       "      <td>6</td>\n",
       "      <td>6</td>\n",
       "    </tr>\n",
       "    <tr>\n",
       "      <th>AberdeenWA</th>\n",
       "      <th>16334</th>\n",
       "      <td>25517</td>\n",
       "      <td>8</td>\n",
       "      <td>0</td>\n",
       "      <td>0</td>\n",
       "      <td>8</td>\n",
       "    </tr>\n",
       "  </tbody>\n",
       "</table>\n",
       "</div>"
      ],
      "text/plain": [
       "                       id  evdcfastcount  evlevel1evsenum  evlevel2evsenum  \\\n",
       "citystate    pop                                                             \n",
       "AbbotsfordWI 2259   19458              0                1                0   \n",
       "AberdeenMD   15612  19380              0                0                2   \n",
       "AberdeenNC   7502   82694              0                0               10   \n",
       "AberdeenSD   28415  53098              0                0                6   \n",
       "AberdeenWA   16334  25517              8                0                0   \n",
       "\n",
       "                    ev_total  \n",
       "citystate    pop              \n",
       "AbbotsfordWI 2259          1  \n",
       "AberdeenMD   15612         2  \n",
       "AberdeenNC   7502         10  \n",
       "AberdeenSD   28415         6  \n",
       "AberdeenWA   16334         8  "
      ]
     },
     "execution_count": 112,
     "metadata": {},
     "output_type": "execute_result"
    }
   ],
   "source": [
    "df_ev_grouped.head()"
   ]
  },
  {
   "cell_type": "code",
   "execution_count": 95,
   "metadata": {},
   "outputs": [
    {
     "data": {
      "text/plain": [
       "(2957, 5)"
      ]
     },
     "execution_count": 95,
     "metadata": {},
     "output_type": "execute_result"
    }
   ],
   "source": [
    "df_ev_grouped.shape"
   ]
  },
  {
   "cell_type": "code",
   "execution_count": 200,
   "metadata": {},
   "outputs": [],
   "source": [
    "# ev_total zeros removal (just in case there are any)\n",
    "df_ev_final = df_ev_grouped[df_ev_grouped.ev_total != 0]"
   ]
  },
  {
   "cell_type": "code",
   "execution_count": 201,
   "metadata": {},
   "outputs": [
    {
     "data": {
      "text/plain": [
       "(2957, 5)"
      ]
     },
     "execution_count": 201,
     "metadata": {},
     "output_type": "execute_result"
    }
   ],
   "source": [
    "df_ev_final.shape"
   ]
  },
  {
   "cell_type": "markdown",
   "metadata": {},
   "source": [
    "### Final DF Config and Checks"
   ]
  },
  {
   "cell_type": "code",
   "execution_count": 202,
   "metadata": {
    "collapsed": true
   },
   "outputs": [],
   "source": [
    "# Reset index for use in model\n",
    "df_ev_final = df_ev_grouped.reset_index()"
   ]
  },
  {
   "cell_type": "code",
   "execution_count": 203,
   "metadata": {},
   "outputs": [
    {
     "data": {
      "text/html": [
       "<div>\n",
       "<style>\n",
       "    .dataframe thead tr:only-child th {\n",
       "        text-align: right;\n",
       "    }\n",
       "\n",
       "    .dataframe thead th {\n",
       "        text-align: left;\n",
       "    }\n",
       "\n",
       "    .dataframe tbody tr th {\n",
       "        vertical-align: top;\n",
       "    }\n",
       "</style>\n",
       "<table border=\"1\" class=\"dataframe\">\n",
       "  <thead>\n",
       "    <tr style=\"text-align: right;\">\n",
       "      <th></th>\n",
       "      <th>citystate</th>\n",
       "      <th>pop</th>\n",
       "      <th>id</th>\n",
       "      <th>evdcfastcount</th>\n",
       "      <th>evlevel1evsenum</th>\n",
       "      <th>evlevel2evsenum</th>\n",
       "      <th>ev_total</th>\n",
       "    </tr>\n",
       "  </thead>\n",
       "  <tbody>\n",
       "    <tr>\n",
       "      <th>0</th>\n",
       "      <td>AbbotsfordWI</td>\n",
       "      <td>2259</td>\n",
       "      <td>19458</td>\n",
       "      <td>0</td>\n",
       "      <td>1</td>\n",
       "      <td>0</td>\n",
       "      <td>1</td>\n",
       "    </tr>\n",
       "    <tr>\n",
       "      <th>1</th>\n",
       "      <td>AberdeenMD</td>\n",
       "      <td>15612</td>\n",
       "      <td>19380</td>\n",
       "      <td>0</td>\n",
       "      <td>0</td>\n",
       "      <td>2</td>\n",
       "      <td>2</td>\n",
       "    </tr>\n",
       "    <tr>\n",
       "      <th>2</th>\n",
       "      <td>AberdeenNC</td>\n",
       "      <td>7502</td>\n",
       "      <td>82694</td>\n",
       "      <td>0</td>\n",
       "      <td>0</td>\n",
       "      <td>10</td>\n",
       "      <td>10</td>\n",
       "    </tr>\n",
       "    <tr>\n",
       "      <th>3</th>\n",
       "      <td>AberdeenSD</td>\n",
       "      <td>28415</td>\n",
       "      <td>53098</td>\n",
       "      <td>0</td>\n",
       "      <td>0</td>\n",
       "      <td>6</td>\n",
       "      <td>6</td>\n",
       "    </tr>\n",
       "    <tr>\n",
       "      <th>4</th>\n",
       "      <td>AberdeenWA</td>\n",
       "      <td>16334</td>\n",
       "      <td>25517</td>\n",
       "      <td>8</td>\n",
       "      <td>0</td>\n",
       "      <td>0</td>\n",
       "      <td>8</td>\n",
       "    </tr>\n",
       "  </tbody>\n",
       "</table>\n",
       "</div>"
      ],
      "text/plain": [
       "      citystate    pop     id  evdcfastcount  evlevel1evsenum  \\\n",
       "0  AbbotsfordWI   2259  19458              0                1   \n",
       "1    AberdeenMD  15612  19380              0                0   \n",
       "2    AberdeenNC   7502  82694              0                0   \n",
       "3    AberdeenSD  28415  53098              0                0   \n",
       "4    AberdeenWA  16334  25517              8                0   \n",
       "\n",
       "   evlevel2evsenum  ev_total  \n",
       "0                0         1  \n",
       "1                2         2  \n",
       "2               10        10  \n",
       "3                6         6  \n",
       "4                0         8  "
      ]
     },
     "execution_count": 203,
     "metadata": {},
     "output_type": "execute_result"
    }
   ],
   "source": [
    "df_ev_final.head()"
   ]
  },
  {
   "cell_type": "code",
   "execution_count": null,
   "metadata": {
    "collapsed": true
   },
   "outputs": [],
   "source": [
    "\n",
    "# Conversion of 'pop' and 'id' as a new int columns\n"
   ]
  },
  {
   "cell_type": "code",
   "execution_count": 204,
   "metadata": {},
   "outputs": [],
   "source": [
    "df_ev_final[('pop_x')] = df_ev_final[('pop')].astype(int)\n",
    "df_ev_final[('id_x')] = df_ev_final[('id')].astype(int)"
   ]
  },
  {
   "cell_type": "code",
   "execution_count": 205,
   "metadata": {},
   "outputs": [
    {
     "data": {
      "text/plain": [
       "dtype('int32')"
      ]
     },
     "execution_count": 205,
     "metadata": {},
     "output_type": "execute_result"
    }
   ],
   "source": [
    "df_ev_final.pop_x.dtype"
   ]
  },
  {
   "cell_type": "code",
   "execution_count": 206,
   "metadata": {},
   "outputs": [
    {
     "data": {
      "text/plain": [
       "dtype('int32')"
      ]
     },
     "execution_count": 206,
     "metadata": {},
     "output_type": "execute_result"
    }
   ],
   "source": [
    "df_ev_final.id_x.dtype"
   ]
  },
  {
   "cell_type": "code",
   "execution_count": 207,
   "metadata": {},
   "outputs": [
    {
     "data": {
      "text/html": [
       "<div>\n",
       "<style>\n",
       "    .dataframe thead tr:only-child th {\n",
       "        text-align: right;\n",
       "    }\n",
       "\n",
       "    .dataframe thead th {\n",
       "        text-align: left;\n",
       "    }\n",
       "\n",
       "    .dataframe tbody tr th {\n",
       "        vertical-align: top;\n",
       "    }\n",
       "</style>\n",
       "<table border=\"1\" class=\"dataframe\">\n",
       "  <thead>\n",
       "    <tr style=\"text-align: right;\">\n",
       "      <th></th>\n",
       "      <th>citystate</th>\n",
       "      <th>pop</th>\n",
       "      <th>id</th>\n",
       "      <th>evdcfastcount</th>\n",
       "      <th>evlevel1evsenum</th>\n",
       "      <th>evlevel2evsenum</th>\n",
       "      <th>ev_total</th>\n",
       "      <th>pop_x</th>\n",
       "      <th>id_x</th>\n",
       "    </tr>\n",
       "  </thead>\n",
       "  <tbody>\n",
       "    <tr>\n",
       "      <th>0</th>\n",
       "      <td>AbbotsfordWI</td>\n",
       "      <td>2259</td>\n",
       "      <td>19458</td>\n",
       "      <td>0</td>\n",
       "      <td>1</td>\n",
       "      <td>0</td>\n",
       "      <td>1</td>\n",
       "      <td>2259</td>\n",
       "      <td>19458</td>\n",
       "    </tr>\n",
       "    <tr>\n",
       "      <th>1</th>\n",
       "      <td>AberdeenMD</td>\n",
       "      <td>15612</td>\n",
       "      <td>19380</td>\n",
       "      <td>0</td>\n",
       "      <td>0</td>\n",
       "      <td>2</td>\n",
       "      <td>2</td>\n",
       "      <td>15612</td>\n",
       "      <td>19380</td>\n",
       "    </tr>\n",
       "    <tr>\n",
       "      <th>2</th>\n",
       "      <td>AberdeenNC</td>\n",
       "      <td>7502</td>\n",
       "      <td>82694</td>\n",
       "      <td>0</td>\n",
       "      <td>0</td>\n",
       "      <td>10</td>\n",
       "      <td>10</td>\n",
       "      <td>7502</td>\n",
       "      <td>82694</td>\n",
       "    </tr>\n",
       "    <tr>\n",
       "      <th>3</th>\n",
       "      <td>AberdeenSD</td>\n",
       "      <td>28415</td>\n",
       "      <td>53098</td>\n",
       "      <td>0</td>\n",
       "      <td>0</td>\n",
       "      <td>6</td>\n",
       "      <td>6</td>\n",
       "      <td>28415</td>\n",
       "      <td>53098</td>\n",
       "    </tr>\n",
       "    <tr>\n",
       "      <th>4</th>\n",
       "      <td>AberdeenWA</td>\n",
       "      <td>16334</td>\n",
       "      <td>25517</td>\n",
       "      <td>8</td>\n",
       "      <td>0</td>\n",
       "      <td>0</td>\n",
       "      <td>8</td>\n",
       "      <td>16334</td>\n",
       "      <td>25517</td>\n",
       "    </tr>\n",
       "  </tbody>\n",
       "</table>\n",
       "</div>"
      ],
      "text/plain": [
       "      citystate    pop     id  evdcfastcount  evlevel1evsenum  \\\n",
       "0  AbbotsfordWI   2259  19458              0                1   \n",
       "1    AberdeenMD  15612  19380              0                0   \n",
       "2    AberdeenNC   7502  82694              0                0   \n",
       "3    AberdeenSD  28415  53098              0                0   \n",
       "4    AberdeenWA  16334  25517              8                0   \n",
       "\n",
       "   evlevel2evsenum  ev_total  pop_x   id_x  \n",
       "0                0         1   2259  19458  \n",
       "1                2         2  15612  19380  \n",
       "2               10        10   7502  82694  \n",
       "3                6         6  28415  53098  \n",
       "4                0         8  16334  25517  "
      ]
     },
     "execution_count": 207,
     "metadata": {},
     "output_type": "execute_result"
    }
   ],
   "source": [
    "df_ev_final.head()"
   ]
  },
  {
   "cell_type": "code",
   "execution_count": 208,
   "metadata": {},
   "outputs": [
    {
     "data": {
      "text/plain": [
       "(2957, 9)"
      ]
     },
     "execution_count": 208,
     "metadata": {},
     "output_type": "execute_result"
    }
   ],
   "source": [
    "df_ev_final.shape"
   ]
  },
  {
   "cell_type": "code",
   "execution_count": 209,
   "metadata": {
    "collapsed": true
   },
   "outputs": [
    {
     "data": {
      "text/plain": [
       "citystate          0\n",
       "pop                0\n",
       "id                 0\n",
       "evdcfastcount      0\n",
       "evlevel1evsenum    0\n",
       "evlevel2evsenum    0\n",
       "ev_total           0\n",
       "pop_x              0\n",
       "id_x               0\n",
       "dtype: int64"
      ]
     },
     "execution_count": 209,
     "metadata": {},
     "output_type": "execute_result"
    }
   ],
   "source": [
    "df_ev_final.isnull().sum()"
   ]
  },
  {
   "cell_type": "code",
   "execution_count": 210,
   "metadata": {
    "collapsed": true
   },
   "outputs": [
    {
     "data": {
      "text/plain": [
       "citystate          2953\n",
       "pop                2873\n",
       "id                 2925\n",
       "evdcfastcount        33\n",
       "evlevel1evsenum      39\n",
       "evlevel2evsenum     141\n",
       "ev_total            149\n",
       "pop_x              2873\n",
       "id_x               2925\n",
       "dtype: int64"
      ]
     },
     "execution_count": 210,
     "metadata": {},
     "output_type": "execute_result"
    }
   ],
   "source": [
    "df_ev_final.nunique()"
   ]
  },
  {
   "cell_type": "code",
   "execution_count": 211,
   "metadata": {
    "collapsed": true
   },
   "outputs": [
    {
     "data": {
      "text/plain": [
       "2       706\n",
       "1       433\n",
       "4       279\n",
       "0       236\n",
       "3       207\n",
       "6       134\n",
       "5       123\n",
       "8        79\n",
       "10       73\n",
       "7        70\n",
       "9        59\n",
       "11       38\n",
       "12       36\n",
       "14       32\n",
       "15       31\n",
       "13       29\n",
       "16       25\n",
       "20       22\n",
       "18       20\n",
       "19       19\n",
       "17       17\n",
       "22       13\n",
       "21       12\n",
       "26       11\n",
       "23       11\n",
       "24       11\n",
       "28       10\n",
       "30        9\n",
       "31        7\n",
       "25        7\n",
       "       ... \n",
       "527       1\n",
       "535       1\n",
       "665       1\n",
       "121       1\n",
       "103       1\n",
       "174       1\n",
       "314       1\n",
       "178       1\n",
       "180       1\n",
       "182       1\n",
       "192       1\n",
       "196       1\n",
       "202       1\n",
       "256       1\n",
       "282       1\n",
       "296       1\n",
       "304       1\n",
       "334       1\n",
       "99        1\n",
       "430       1\n",
       "506       1\n",
       "514       1\n",
       "785       1\n",
       "55        1\n",
       "61        1\n",
       "67        1\n",
       "77        1\n",
       "83        1\n",
       "89        1\n",
       "1626      1\n",
       "Name: evlevel2evsenum, Length: 141, dtype: int64"
      ]
     },
     "execution_count": 211,
     "metadata": {},
     "output_type": "execute_result"
    }
   ],
   "source": [
    "df_ev_final.evlevel2evsenum.value_counts()"
   ]
  },
  {
   "cell_type": "markdown",
   "metadata": {},
   "source": [
    "### Features Setup"
   ]
  },
  {
   "cell_type": "code",
   "execution_count": 212,
   "metadata": {},
   "outputs": [
    {
     "data": {
      "text/plain": [
       "Index([u'citystate', u'pop', u'id', u'evdcfastcount', u'evlevel1evsenum',\n",
       "       u'evlevel2evsenum', u'ev_total', u'pop_x', u'id_x'],\n",
       "      dtype='object')"
      ]
     },
     "execution_count": 212,
     "metadata": {},
     "output_type": "execute_result"
    }
   ],
   "source": [
    "df_ev_final.columns"
   ]
  },
  {
   "cell_type": "markdown",
   "metadata": {},
   "source": [
    "#### Individual DFs for each charger type"
   ]
  },
  {
   "cell_type": "markdown",
   "metadata": {},
   "source": [
    "#### Fast DF"
   ]
  },
  {
   "cell_type": "code",
   "execution_count": 147,
   "metadata": {},
   "outputs": [
    {
     "data": {
      "text/plain": [
       "Index([u'citystate', u'pop', u'id', u'evdcfastcount', u'evlevel1evsenum',\n",
       "       u'evlevel2evsenum', u'ev_total', u'pop_x', u'id_x'],\n",
       "      dtype='object')"
      ]
     },
     "execution_count": 147,
     "metadata": {},
     "output_type": "execute_result"
    }
   ],
   "source": [
    "df_ev_final.columns"
   ]
  },
  {
   "cell_type": "code",
   "execution_count": 213,
   "metadata": {
    "collapsed": true
   },
   "outputs": [],
   "source": [
    "df_ev1 = df_ev_final[df_ev_final.evdcfastcount != 0]"
   ]
  },
  {
   "cell_type": "code",
   "execution_count": 214,
   "metadata": {
    "collapsed": true
   },
   "outputs": [],
   "source": [
    "df_ev_fast = df_ev1.drop(['citystate', 'pop', 'id', 'pop_x', 'id_x', 'ev_total', 'evlevel1evsenum', 'evlevel2evsenum'], axis=1)"
   ]
  },
  {
   "cell_type": "code",
   "execution_count": 215,
   "metadata": {
    "collapsed": true
   },
   "outputs": [],
   "source": [
    "df_ev_fast[('pop_fast')] = df_ev_final[('pop_x')].astype(int)\n",
    "df_ev_fast[('id_fast')] = df_ev_final[('id_x')].astype(int)"
   ]
  },
  {
   "cell_type": "code",
   "execution_count": 216,
   "metadata": {},
   "outputs": [],
   "source": [
    "features_fast = ['pop_fast', 'id_fast']"
   ]
  },
  {
   "cell_type": "code",
   "execution_count": 217,
   "metadata": {
    "collapsed": true
   },
   "outputs": [],
   "source": [
    "fast_y = df_ev_fast.evdcfastcount"
   ]
  },
  {
   "cell_type": "code",
   "execution_count": 218,
   "metadata": {},
   "outputs": [
    {
     "data": {
      "text/html": [
       "<div>\n",
       "<style>\n",
       "    .dataframe thead tr:only-child th {\n",
       "        text-align: right;\n",
       "    }\n",
       "\n",
       "    .dataframe thead th {\n",
       "        text-align: left;\n",
       "    }\n",
       "\n",
       "    .dataframe tbody tr th {\n",
       "        vertical-align: top;\n",
       "    }\n",
       "</style>\n",
       "<table border=\"1\" class=\"dataframe\">\n",
       "  <thead>\n",
       "    <tr style=\"text-align: right;\">\n",
       "      <th></th>\n",
       "      <th>evdcfastcount</th>\n",
       "      <th>pop_fast</th>\n",
       "      <th>id_fast</th>\n",
       "    </tr>\n",
       "  </thead>\n",
       "  <tbody>\n",
       "    <tr>\n",
       "      <th>4</th>\n",
       "      <td>8</td>\n",
       "      <td>16334</td>\n",
       "      <td>25517</td>\n",
       "    </tr>\n",
       "    <tr>\n",
       "      <th>14</th>\n",
       "      <td>2</td>\n",
       "      <td>197633</td>\n",
       "      <td>202759</td>\n",
       "    </tr>\n",
       "    <tr>\n",
       "      <th>15</th>\n",
       "      <td>8</td>\n",
       "      <td>78906</td>\n",
       "      <td>155138</td>\n",
       "    </tr>\n",
       "    <tr>\n",
       "      <th>19</th>\n",
       "      <td>8</td>\n",
       "      <td>98111</td>\n",
       "      <td>377406</td>\n",
       "    </tr>\n",
       "    <tr>\n",
       "      <th>20</th>\n",
       "      <td>2</td>\n",
       "      <td>53211</td>\n",
       "      <td>61590</td>\n",
       "    </tr>\n",
       "  </tbody>\n",
       "</table>\n",
       "</div>"
      ],
      "text/plain": [
       "    evdcfastcount  pop_fast  id_fast\n",
       "4               8     16334    25517\n",
       "14              2    197633   202759\n",
       "15              8     78906   155138\n",
       "19              8     98111   377406\n",
       "20              2     53211    61590"
      ]
     },
     "execution_count": 218,
     "metadata": {},
     "output_type": "execute_result"
    }
   ],
   "source": [
    "df_ev_fast.head()"
   ]
  },
  {
   "cell_type": "code",
   "execution_count": 219,
   "metadata": {},
   "outputs": [
    {
     "data": {
      "text/plain": [
       "(1042, 3)"
      ]
     },
     "execution_count": 219,
     "metadata": {},
     "output_type": "execute_result"
    }
   ],
   "source": [
    "df_ev_fast.shape"
   ]
  },
  {
   "cell_type": "markdown",
   "metadata": {
    "collapsed": true
   },
   "source": [
    "#### 110 DF"
   ]
  },
  {
   "cell_type": "code",
   "execution_count": 220,
   "metadata": {
    "collapsed": true
   },
   "outputs": [],
   "source": [
    "df_ev2 = df_ev_final[df_ev_final.evlevel1evsenum != 0]"
   ]
  },
  {
   "cell_type": "code",
   "execution_count": 221,
   "metadata": {
    "collapsed": true
   },
   "outputs": [],
   "source": [
    "df_ev_110 = df_ev2.drop(['citystate', 'pop', 'id', 'pop_x', 'id_x', 'ev_total', 'evdcfastcount', 'evlevel2evsenum'], axis=1)"
   ]
  },
  {
   "cell_type": "code",
   "execution_count": 222,
   "metadata": {
    "collapsed": true
   },
   "outputs": [],
   "source": [
    "df_ev_110[('pop_110')] = df_ev_final[('pop_x')].astype(int)\n",
    "df_ev_110[('id_110')] = df_ev_final[('id_x')].astype(int)"
   ]
  },
  {
   "cell_type": "code",
   "execution_count": 223,
   "metadata": {
    "collapsed": true
   },
   "outputs": [],
   "source": [
    "features_110 = ['pop_110', 'id_110']"
   ]
  },
  {
   "cell_type": "code",
   "execution_count": 224,
   "metadata": {},
   "outputs": [],
   "source": [
    "y_110 = df_ev_110.evlevel1evsenum"
   ]
  },
  {
   "cell_type": "code",
   "execution_count": 225,
   "metadata": {},
   "outputs": [
    {
     "data": {
      "text/html": [
       "<div>\n",
       "<style>\n",
       "    .dataframe thead tr:only-child th {\n",
       "        text-align: right;\n",
       "    }\n",
       "\n",
       "    .dataframe thead th {\n",
       "        text-align: left;\n",
       "    }\n",
       "\n",
       "    .dataframe tbody tr th {\n",
       "        vertical-align: top;\n",
       "    }\n",
       "</style>\n",
       "<table border=\"1\" class=\"dataframe\">\n",
       "  <thead>\n",
       "    <tr style=\"text-align: right;\">\n",
       "      <th></th>\n",
       "      <th>evlevel1evsenum</th>\n",
       "      <th>pop_110</th>\n",
       "      <th>id_110</th>\n",
       "    </tr>\n",
       "  </thead>\n",
       "  <tbody>\n",
       "    <tr>\n",
       "      <th>0</th>\n",
       "      <td>1</td>\n",
       "      <td>2259</td>\n",
       "      <td>19458</td>\n",
       "    </tr>\n",
       "    <tr>\n",
       "      <th>19</th>\n",
       "      <td>4</td>\n",
       "      <td>98111</td>\n",
       "      <td>377406</td>\n",
       "    </tr>\n",
       "    <tr>\n",
       "      <th>21</th>\n",
       "      <td>1</td>\n",
       "      <td>17667</td>\n",
       "      <td>50134</td>\n",
       "    </tr>\n",
       "    <tr>\n",
       "      <th>24</th>\n",
       "      <td>1</td>\n",
       "      <td>8337</td>\n",
       "      <td>12233</td>\n",
       "    </tr>\n",
       "    <tr>\n",
       "      <th>25</th>\n",
       "      <td>1</td>\n",
       "      <td>1599</td>\n",
       "      <td>10854</td>\n",
       "    </tr>\n",
       "  </tbody>\n",
       "</table>\n",
       "</div>"
      ],
      "text/plain": [
       "    evlevel1evsenum  pop_110  id_110\n",
       "0                 1     2259   19458\n",
       "19                4    98111  377406\n",
       "21                1    17667   50134\n",
       "24                1     8337   12233\n",
       "25                1     1599   10854"
      ]
     },
     "execution_count": 225,
     "metadata": {},
     "output_type": "execute_result"
    }
   ],
   "source": [
    "df_ev_110.head()"
   ]
  },
  {
   "cell_type": "code",
   "execution_count": 162,
   "metadata": {},
   "outputs": [
    {
     "data": {
      "text/plain": [
       "(551, 3)"
      ]
     },
     "execution_count": 162,
     "metadata": {},
     "output_type": "execute_result"
    }
   ],
   "source": [
    "df_ev_110.shape"
   ]
  },
  {
   "cell_type": "markdown",
   "metadata": {
    "collapsed": true
   },
   "source": [
    "#### 220 DF"
   ]
  },
  {
   "cell_type": "code",
   "execution_count": 226,
   "metadata": {
    "collapsed": true
   },
   "outputs": [],
   "source": [
    "df_ev3 = df_ev_final[df_ev_final.evlevel2evsenum != 0]"
   ]
  },
  {
   "cell_type": "code",
   "execution_count": 227,
   "metadata": {
    "collapsed": true
   },
   "outputs": [],
   "source": [
    "df_ev_220 = df_ev3.drop(['citystate', 'pop', 'id', 'pop_x', 'id_x', 'ev_total', 'evdcfastcount', 'evlevel1evsenum'], axis=1)"
   ]
  },
  {
   "cell_type": "code",
   "execution_count": 228,
   "metadata": {
    "collapsed": true
   },
   "outputs": [],
   "source": [
    "df_ev_220[('pop_110')] = df_ev_final[('pop_x')].astype(int)\n",
    "df_ev_220[('id_110')] = df_ev_final[('id_x')].astype(int)"
   ]
  },
  {
   "cell_type": "code",
   "execution_count": 229,
   "metadata": {},
   "outputs": [],
   "source": [
    "features_220 = ['pop_x', 'id_x']"
   ]
  },
  {
   "cell_type": "code",
   "execution_count": 230,
   "metadata": {
    "collapsed": true
   },
   "outputs": [],
   "source": [
    "y_220 = df_ev_220.evlevel2evsenum"
   ]
  },
  {
   "cell_type": "code",
   "execution_count": 231,
   "metadata": {},
   "outputs": [
    {
     "data": {
      "text/html": [
       "<div>\n",
       "<style>\n",
       "    .dataframe thead tr:only-child th {\n",
       "        text-align: right;\n",
       "    }\n",
       "\n",
       "    .dataframe thead th {\n",
       "        text-align: left;\n",
       "    }\n",
       "\n",
       "    .dataframe tbody tr th {\n",
       "        vertical-align: top;\n",
       "    }\n",
       "</style>\n",
       "<table border=\"1\" class=\"dataframe\">\n",
       "  <thead>\n",
       "    <tr style=\"text-align: right;\">\n",
       "      <th></th>\n",
       "      <th>evlevel2evsenum</th>\n",
       "      <th>pop_x</th>\n",
       "      <th>id_x</th>\n",
       "      <th>pop_110</th>\n",
       "      <th>id_110</th>\n",
       "    </tr>\n",
       "  </thead>\n",
       "  <tbody>\n",
       "    <tr>\n",
       "      <th>1</th>\n",
       "      <td>2</td>\n",
       "      <td>15612</td>\n",
       "      <td>19380</td>\n",
       "      <td>15612</td>\n",
       "      <td>19380</td>\n",
       "    </tr>\n",
       "    <tr>\n",
       "      <th>2</th>\n",
       "      <td>10</td>\n",
       "      <td>7502</td>\n",
       "      <td>82694</td>\n",
       "      <td>7502</td>\n",
       "      <td>82694</td>\n",
       "    </tr>\n",
       "    <tr>\n",
       "      <th>3</th>\n",
       "      <td>6</td>\n",
       "      <td>28415</td>\n",
       "      <td>53098</td>\n",
       "      <td>28415</td>\n",
       "      <td>53098</td>\n",
       "    </tr>\n",
       "    <tr>\n",
       "      <th>5</th>\n",
       "      <td>3</td>\n",
       "      <td>122225</td>\n",
       "      <td>35420</td>\n",
       "      <td>122225</td>\n",
       "      <td>35420</td>\n",
       "    </tr>\n",
       "    <tr>\n",
       "      <th>6</th>\n",
       "      <td>1</td>\n",
       "      <td>8083</td>\n",
       "      <td>22169</td>\n",
       "      <td>8083</td>\n",
       "      <td>22169</td>\n",
       "    </tr>\n",
       "  </tbody>\n",
       "</table>\n",
       "</div>"
      ],
      "text/plain": [
       "   evlevel2evsenum   pop_x   id_x  pop_110  id_110\n",
       "1                2   15612  19380    15612   19380\n",
       "2               10    7502  82694     7502   82694\n",
       "3                6   28415  53098    28415   53098\n",
       "5                3  122225  35420   122225   35420\n",
       "6                1    8083  22169     8083   22169"
      ]
     },
     "execution_count": 231,
     "metadata": {},
     "output_type": "execute_result"
    }
   ],
   "source": [
    "df_ev_220.head()"
   ]
  },
  {
   "cell_type": "code",
   "execution_count": 169,
   "metadata": {},
   "outputs": [
    {
     "data": {
      "text/plain": [
       "(2721, 3)"
      ]
     },
     "execution_count": 169,
     "metadata": {},
     "output_type": "execute_result"
    }
   ],
   "source": [
    "df_ev_220.shape"
   ]
  },
  {
   "cell_type": "code",
   "execution_count": 170,
   "metadata": {
    "collapsed": true
   },
   "outputs": [
    {
     "data": {
      "text/plain": [
       "<matplotlib.axes._subplots.AxesSubplot at 0xe976710>"
      ]
     },
     "execution_count": 170,
     "metadata": {},
     "output_type": "execute_result"
    },
    {
     "data": {
      "image/png": "[encoded data removed]",
      "text/plain": [
       "<matplotlib.figure.Figure at 0xdf6ecf8>"
      ]
     },
     "metadata": {},
     "output_type": "display_data"
    }
   ],
   "source": [
    "fig, axs = plt.subplots(1, 3, sharey=True)\n",
    "sns.set(font_scale = 1)\n",
    "df_ev_final.plot(kind='scatter', x='pop_x', y='evdcfastcount', ax=axs[0], figsize=(16, 8))\n",
    "df_ev_final.plot(kind='scatter', x='pop_x', y='evlevel1evsenum', ax=axs[1])\n",
    "df_ev_final.plot(kind='scatter', x='pop_x', y='evlevel2evsenum', ax=axs[2])"
   ]
  },
  {
   "cell_type": "code",
   "execution_count": 171,
   "metadata": {
    "collapsed": true
   },
   "outputs": [
    {
     "data": {
      "text/plain": [
       "<matplotlib.axes._subplots.AxesSubplot at 0xf2dc7f0>"
      ]
     },
     "execution_count": 171,
     "metadata": {},
     "output_type": "execute_result"
    },
    {
     "data": {
      "image/png": "[encoded data removed]",
      "text/plain": [
       "<matplotlib.figure.Figure at 0xef57a90>"
      ]
     },
     "metadata": {},
     "output_type": "display_data"
    }
   ],
   "source": [
    "fig, axs = plt.subplots(1, 3, sharey=True)\n",
    "sns.set(font_scale = 1)\n",
    "df_ev_final.plot(kind='scatter', x='id_x', y='evdcfastcount', ax=axs[0], figsize=(16, 8))\n",
    "df_ev_final.plot(kind='scatter', x='id_x', y='evlevel1evsenum', ax=axs[1])\n",
    "df_ev_final.plot(kind='scatter', x='id_x', y='evlevel2evsenum', ax=axs[2])"
   ]
  },
  {
   "cell_type": "code",
   "execution_count": 172,
   "metadata": {},
   "outputs": [
    {
     "data": {
      "image/png": "[encoded data removed]",
      "text/plain": [
       "<matplotlib.figure.Figure at 0xdf6eac8>"
      ]
     },
     "metadata": {},
     "output_type": "display_data"
    }
   ],
   "source": [
    "# visualize correlation matrix in Seaborn using a heatmap\n",
    "sns.heatmap(df_ev_final.corr())\n",
    "sns.set(font_scale = 1.5)"
   ]
  },
  {
   "cell_type": "markdown",
   "metadata": {
    "collapsed": true
   },
   "source": [
    "#### Model Build"
   ]
  },
  {
   "cell_type": "code",
   "execution_count": 173,
   "metadata": {
    "collapsed": true
   },
   "outputs": [],
   "source": [
    "from sklearn.linear_model import LinearRegression\n",
    "from sklearn.metrics import mean_absolute_error,mean_squared_error,r2_score\n",
    "import numpy as np\n",
    "from math import sqrt"
   ]
  },
  {
   "cell_type": "code",
   "execution_count": 188,
   "metadata": {},
   "outputs": [
    {
     "data": {
      "text/plain": [
       "4       9100\n",
       "14    196609\n",
       "15      5122\n",
       "19     82494\n",
       "20     49298\n",
       "dtype: int32"
      ]
     },
     "execution_count": 188,
     "metadata": {},
     "output_type": "execute_result"
    }
   ],
   "source": [
    "features_fast.head()"
   ]
  },
  {
   "cell_type": "markdown",
   "metadata": {},
   "source": [
    "#### Simple LR Model > Fast"
   ]
  },
  {
   "cell_type": "code",
   "execution_count": 175,
   "metadata": {},
   "outputs": [
    {
     "name": "stderr",
     "output_type": "stream",
     "text": [
      "C:\\Users\\cmagann\\AppData\\Local\\Continuum\\Anaconda2\\lib\\site-packages\\sklearn\\utils\\validation.py:395: DeprecationWarning: Passing 1d arrays as data is deprecated in 0.17 and will raise ValueError in 0.19. Reshape your data either using X.reshape(-1, 1) if your data has a single feature or X.reshape(1, -1) if it contains a single sample.\n",
      "  DeprecationWarning)\n"
     ]
    },
    {
     "ename": "ValueError",
     "evalue": "Found input variables with inconsistent numbers of samples: [1, 1042]",
     "output_type": "error",
     "traceback": [
      "\u001b[1;31m---------------------------------------------------------------------------\u001b[0m",
      "\u001b[1;31mValueError\u001b[0m                                Traceback (most recent call last)",
      "\u001b[1;32m<ipython-input-175-7392188a23b9>\u001b[0m in \u001b[0;36m<module>\u001b[1;34m()\u001b[0m\n\u001b[0;32m      5\u001b[0m \u001b[1;31m# instantiate, fit\u001b[0m\u001b[1;33m\u001b[0m\u001b[1;33m\u001b[0m\u001b[0m\n\u001b[0;32m      6\u001b[0m \u001b[0mlr\u001b[0m \u001b[1;33m=\u001b[0m \u001b[0mLinearRegression\u001b[0m\u001b[1;33m(\u001b[0m\u001b[1;33m)\u001b[0m\u001b[1;33m\u001b[0m\u001b[0m\n\u001b[1;32m----> 7\u001b[1;33m \u001b[0mlr\u001b[0m\u001b[1;33m.\u001b[0m\u001b[0mfit\u001b[0m\u001b[1;33m(\u001b[0m\u001b[0mX\u001b[0m\u001b[1;33m,\u001b[0m \u001b[0my\u001b[0m\u001b[1;33m)\u001b[0m\u001b[1;33m\u001b[0m\u001b[0m\n\u001b[0m\u001b[0;32m      8\u001b[0m \u001b[1;33m\u001b[0m\u001b[0m\n\u001b[0;32m      9\u001b[0m \u001b[1;31m# print coefficients\u001b[0m\u001b[1;33m\u001b[0m\u001b[1;33m\u001b[0m\u001b[0m\n",
      "\u001b[1;32mC:\\Users\\cmagann\\AppData\\Local\\Continuum\\Anaconda2\\lib\\site-packages\\sklearn\\linear_model\\base.pyc\u001b[0m in \u001b[0;36mfit\u001b[1;34m(self, X, y, sample_weight)\u001b[0m\n\u001b[0;32m    510\u001b[0m         \u001b[0mn_jobs_\u001b[0m \u001b[1;33m=\u001b[0m \u001b[0mself\u001b[0m\u001b[1;33m.\u001b[0m\u001b[0mn_jobs\u001b[0m\u001b[1;33m\u001b[0m\u001b[0m\n\u001b[0;32m    511\u001b[0m         X, y = check_X_y(X, y, accept_sparse=['csr', 'csc', 'coo'],\n\u001b[1;32m--> 512\u001b[1;33m                          y_numeric=True, multi_output=True)\n\u001b[0m\u001b[0;32m    513\u001b[0m \u001b[1;33m\u001b[0m\u001b[0m\n\u001b[0;32m    514\u001b[0m         \u001b[1;32mif\u001b[0m \u001b[0msample_weight\u001b[0m \u001b[1;32mis\u001b[0m \u001b[1;32mnot\u001b[0m \u001b[0mNone\u001b[0m \u001b[1;32mand\u001b[0m \u001b[0mnp\u001b[0m\u001b[1;33m.\u001b[0m\u001b[0matleast_1d\u001b[0m\u001b[1;33m(\u001b[0m\u001b[0msample_weight\u001b[0m\u001b[1;33m)\u001b[0m\u001b[1;33m.\u001b[0m\u001b[0mndim\u001b[0m \u001b[1;33m>\u001b[0m \u001b[1;36m1\u001b[0m\u001b[1;33m:\u001b[0m\u001b[1;33m\u001b[0m\u001b[0m\n",
      "\u001b[1;32mC:\\Users\\cmagann\\AppData\\Local\\Continuum\\Anaconda2\\lib\\site-packages\\sklearn\\utils\\validation.pyc\u001b[0m in \u001b[0;36mcheck_X_y\u001b[1;34m(X, y, accept_sparse, dtype, order, copy, force_all_finite, ensure_2d, allow_nd, multi_output, ensure_min_samples, ensure_min_features, y_numeric, warn_on_dtype, estimator)\u001b[0m\n\u001b[0;32m    529\u001b[0m         \u001b[0my\u001b[0m \u001b[1;33m=\u001b[0m \u001b[0my\u001b[0m\u001b[1;33m.\u001b[0m\u001b[0mastype\u001b[0m\u001b[1;33m(\u001b[0m\u001b[0mnp\u001b[0m\u001b[1;33m.\u001b[0m\u001b[0mfloat64\u001b[0m\u001b[1;33m)\u001b[0m\u001b[1;33m\u001b[0m\u001b[0m\n\u001b[0;32m    530\u001b[0m \u001b[1;33m\u001b[0m\u001b[0m\n\u001b[1;32m--> 531\u001b[1;33m     \u001b[0mcheck_consistent_length\u001b[0m\u001b[1;33m(\u001b[0m\u001b[0mX\u001b[0m\u001b[1;33m,\u001b[0m \u001b[0my\u001b[0m\u001b[1;33m)\u001b[0m\u001b[1;33m\u001b[0m\u001b[0m\n\u001b[0m\u001b[0;32m    532\u001b[0m \u001b[1;33m\u001b[0m\u001b[0m\n\u001b[0;32m    533\u001b[0m     \u001b[1;32mreturn\u001b[0m \u001b[0mX\u001b[0m\u001b[1;33m,\u001b[0m \u001b[0my\u001b[0m\u001b[1;33m\u001b[0m\u001b[0m\n",
      "\u001b[1;32mC:\\Users\\cmagann\\AppData\\Local\\Continuum\\Anaconda2\\lib\\site-packages\\sklearn\\utils\\validation.pyc\u001b[0m in \u001b[0;36mcheck_consistent_length\u001b[1;34m(*arrays)\u001b[0m\n\u001b[0;32m    179\u001b[0m     \u001b[1;32mif\u001b[0m \u001b[0mlen\u001b[0m\u001b[1;33m(\u001b[0m\u001b[0muniques\u001b[0m\u001b[1;33m)\u001b[0m \u001b[1;33m>\u001b[0m \u001b[1;36m1\u001b[0m\u001b[1;33m:\u001b[0m\u001b[1;33m\u001b[0m\u001b[0m\n\u001b[0;32m    180\u001b[0m         raise ValueError(\"Found input variables with inconsistent numbers of\"\n\u001b[1;32m--> 181\u001b[1;33m                          \" samples: %r\" % [int(l) for l in lengths])\n\u001b[0m\u001b[0;32m    182\u001b[0m \u001b[1;33m\u001b[0m\u001b[0m\n\u001b[0;32m    183\u001b[0m \u001b[1;33m\u001b[0m\u001b[0m\n",
      "\u001b[1;31mValueError\u001b[0m: Found input variables with inconsistent numbers of samples: [1, 1042]"
     ]
    }
   ],
   "source": [
    "# create X and y\n",
    "X = features_fast\n",
    "y = fast_y\n",
    "\n",
    "# instantiate, fit\n",
    "lr = LinearRegression()\n",
    "lr.fit(X, y)\n",
    "\n",
    "# print coefficients\n",
    "zip(feature_cols, lr.coef_)"
   ]
  },
  {
   "cell_type": "code",
   "execution_count": 635,
   "metadata": {},
   "outputs": [
    {
     "data": {
      "text/plain": [
       "0.41282743987628168"
      ]
     },
     "execution_count": 635,
     "metadata": {},
     "output_type": "execute_result"
    }
   ],
   "source": [
    "# calculate the R-squared\n",
    "lr.score(X, y)"
   ]
  },
  {
   "cell_type": "code",
   "execution_count": 636,
   "metadata": {},
   "outputs": [
    {
     "data": {
      "text/plain": [
       "array([[ 3.98041529],\n",
       "       [ 4.61553434],\n",
       "       [ 4.78278834],\n",
       "       ..., \n",
       "       [ 3.86331449],\n",
       "       [ 3.96327589],\n",
       "       [ 3.90351526]])"
      ]
     },
     "execution_count": 636,
     "metadata": {},
     "output_type": "execute_result"
    }
   ],
   "source": [
    "lr.predict(X)"
   ]
  },
  {
   "cell_type": "code",
   "execution_count": 637,
   "metadata": {},
   "outputs": [
    {
     "data": {
      "text/plain": [
       "5.0326295585412666"
      ]
     },
     "execution_count": 637,
     "metadata": {},
     "output_type": "execute_result"
    }
   ],
   "source": [
    "lr.predict(X).mean()"
   ]
  },
  {
   "cell_type": "code",
   "execution_count": 638,
   "metadata": {},
   "outputs": [
    {
     "data": {
      "text/plain": [
       "[('evdcfastcount',\n",
       "  array([  3.94553889e-02,   6.11297937e-06,  -4.36897073e-06]))]"
      ]
     },
     "execution_count": 638,
     "metadata": {},
     "output_type": "execute_result"
    }
   ],
   "source": [
    "# create X and y\n",
    "X = df_ev_110x\n",
    "y = df_ev_110y\n",
    "\n",
    "# instantiate, fit\n",
    "lr = LinearRegression()\n",
    "lr.fit(X, y)\n",
    "\n",
    "# print coefficients\n",
    "zip(feature_cols, lr.coef_)"
   ]
  },
  {
   "cell_type": "code",
   "execution_count": 639,
   "metadata": {},
   "outputs": [
    {
     "data": {
      "text/plain": [
       "0.48220290732931292"
      ]
     },
     "execution_count": 639,
     "metadata": {},
     "output_type": "execute_result"
    }
   ],
   "source": [
    "lr.score(X, y)"
   ]
  },
  {
   "cell_type": "code",
   "execution_count": 640,
   "metadata": {
    "scrolled": true
   },
   "outputs": [
    {
     "data": {
      "text/plain": [
       "array([[  2.22367132],\n",
       "       [  6.12361648],\n",
       "       [  2.58060831],\n",
       "       [  2.19240583],\n",
       "       [  2.21341416],\n",
       "       [  3.70929698],\n",
       "       [  5.18785617],\n",
       "       [  9.45565855],\n",
       "       [  2.55225627],\n",
       "       [  2.20072991],\n",
       "       [  2.4393246 ],\n",
       "       [ 12.55605499],\n",
       "       [  2.14737667],\n",
       "       [  6.82327547],\n",
       "       [  4.14952065],\n",
       "       [  2.13481516],\n",
       "       [  2.10170312],\n",
       "       [  1.95829858],\n",
       "       [  3.32268593],\n",
       "       [  2.26374444],\n",
       "       [  9.0742282 ],\n",
       "       [  3.8875311 ],\n",
       "       [  3.19126657],\n",
       "       [  2.32450153],\n",
       "       [  5.48833489],\n",
       "       [  2.70552195],\n",
       "       [ 60.95170893],\n",
       "       [  2.78200771],\n",
       "       [ 42.44323122],\n",
       "       [  2.180983  ],\n",
       "       [  2.85052301],\n",
       "       [  2.17564757],\n",
       "       [ 29.86828778],\n",
       "       [  2.92654553],\n",
       "       [  2.90495586],\n",
       "       [  4.75169866],\n",
       "       [  2.4209495 ],\n",
       "       [  4.68109898],\n",
       "       [  2.55092198],\n",
       "       [  2.23030017],\n",
       "       [  2.11243439],\n",
       "       [  2.18998848],\n",
       "       [ 15.91919642],\n",
       "       [  4.49893985],\n",
       "       [  3.3767353 ],\n",
       "       [  2.37747754],\n",
       "       [  3.55239183],\n",
       "       [  2.20309924],\n",
       "       [  2.28170192],\n",
       "       [  9.73510132],\n",
       "       [  7.43198769],\n",
       "       [  2.20032856],\n",
       "       [  2.26455411],\n",
       "       [  2.20542697],\n",
       "       [ 20.99101699],\n",
       "       [  3.81786927],\n",
       "       [ 13.40469243],\n",
       "       [  3.98893893],\n",
       "       [  5.22977787],\n",
       "       [  3.6959432 ],\n",
       "       [  2.18909845],\n",
       "       [  2.38391645],\n",
       "       [  3.22913504],\n",
       "       [  7.54317859],\n",
       "       [  5.18710602],\n",
       "       [  2.63682235],\n",
       "       [  2.12606436],\n",
       "       [  3.08237103],\n",
       "       [  2.59404983],\n",
       "       [  2.2928383 ],\n",
       "       [ 10.75498105],\n",
       "       [  5.46854661],\n",
       "       [  2.71899745],\n",
       "       [  2.61271972],\n",
       "       [  2.34588013],\n",
       "       [  2.18906492],\n",
       "       [  7.88914838],\n",
       "       [  2.12954149],\n",
       "       [  4.32166287],\n",
       "       [  2.20676882],\n",
       "       [  3.61652763],\n",
       "       [  9.0685224 ],\n",
       "       [  2.26032581],\n",
       "       [  4.9378573 ],\n",
       "       [  2.11703021],\n",
       "       [ 16.35047664],\n",
       "       [  2.22104571],\n",
       "       [  2.9369902 ],\n",
       "       [  2.30672755],\n",
       "       [  2.18840496],\n",
       "       [ 16.13713023],\n",
       "       [  3.97123944],\n",
       "       [  2.16906215],\n",
       "       [ 10.75788511],\n",
       "       [  2.16959076],\n",
       "       [  2.83802331],\n",
       "       [  2.31644453],\n",
       "       [  2.20030524],\n",
       "       [  3.89551376],\n",
       "       [  2.4494281 ],\n",
       "       [  2.15862461],\n",
       "       [  2.28746698],\n",
       "       [  2.50989238],\n",
       "       [  2.27448272],\n",
       "       [  2.33851727],\n",
       "       [  4.03181514],\n",
       "       [  4.67746775],\n",
       "       [  3.83984624],\n",
       "       [  5.19399881],\n",
       "       [  3.14510147],\n",
       "       [  5.86258314],\n",
       "       [  2.96767121],\n",
       "       [  2.44485085],\n",
       "       [  2.78342371],\n",
       "       [  1.86679736],\n",
       "       [  3.44028567],\n",
       "       [  4.82826138],\n",
       "       [  8.50273059],\n",
       "       [  2.5093366 ],\n",
       "       [  2.21519827],\n",
       "       [  2.40470282],\n",
       "       [  2.444884  ],\n",
       "       [  2.14823426],\n",
       "       [ 17.9439742 ],\n",
       "       [  2.67906601],\n",
       "       [  2.25995638],\n",
       "       [  3.44574888],\n",
       "       [  8.31084499],\n",
       "       [  3.58409359],\n",
       "       [  2.18489957],\n",
       "       [  2.39122712],\n",
       "       [  2.01829107],\n",
       "       [  3.44626999],\n",
       "       [ 18.31053184],\n",
       "       [  2.4412866 ],\n",
       "       [  3.33558719],\n",
       "       [  3.6658526 ],\n",
       "       [ 10.62418031],\n",
       "       [  2.39607943],\n",
       "       [  2.3471018 ],\n",
       "       [  5.10251347],\n",
       "       [  2.70851278],\n",
       "       [  4.47584615],\n",
       "       [  3.83138272],\n",
       "       [  8.31964201],\n",
       "       [  2.14835907],\n",
       "       [  2.31809162],\n",
       "       [  2.51798188],\n",
       "       [  2.47839079],\n",
       "       [  3.42467182],\n",
       "       [  2.11362179],\n",
       "       [  2.3595388 ],\n",
       "       [  2.22128276],\n",
       "       [  2.88684853],\n",
       "       [  2.28134225],\n",
       "       [  3.98792782],\n",
       "       [  2.33561643],\n",
       "       [  7.14729846],\n",
       "       [  4.09223278],\n",
       "       [  2.51772894],\n",
       "       [  2.21258203],\n",
       "       [  2.7112165 ],\n",
       "       [  4.7244119 ],\n",
       "       [  2.27773432],\n",
       "       [  2.6156854 ],\n",
       "       [  2.73330879],\n",
       "       [  2.929448  ],\n",
       "       [  2.87950138],\n",
       "       [  2.95926803],\n",
       "       [  2.68294379],\n",
       "       [  2.15642125],\n",
       "       [  2.20454987],\n",
       "       [  7.78823358],\n",
       "       [  2.15481374],\n",
       "       [  3.37529077],\n",
       "       [  2.84416926],\n",
       "       [  4.08221194],\n",
       "       [  2.70249521],\n",
       "       [  2.14332609],\n",
       "       [  2.18481056],\n",
       "       [  8.10154614],\n",
       "       [  2.31111689],\n",
       "       [  5.57612141],\n",
       "       [  3.91089577],\n",
       "       [  2.60364586],\n",
       "       [  2.50330976],\n",
       "       [  2.11163048],\n",
       "       [  4.30452125],\n",
       "       [  2.90081276],\n",
       "       [  2.4386152 ],\n",
       "       [  3.02073592],\n",
       "       [  7.44026624],\n",
       "       [  3.76454082],\n",
       "       [  3.14831881],\n",
       "       [  2.49772899],\n",
       "       [  3.18888574],\n",
       "       [  7.25334482],\n",
       "       [  2.2957104 ],\n",
       "       [  2.29323177],\n",
       "       [  2.31981819],\n",
       "       [  9.34166008],\n",
       "       [  2.18964378],\n",
       "       [  2.32156587],\n",
       "       [  2.60718305],\n",
       "       [  2.42489178],\n",
       "       [ 11.65935601],\n",
       "       [  2.66069136],\n",
       "       [  2.29508483],\n",
       "       [  4.91658487],\n",
       "       [  2.35340669],\n",
       "       [ 21.17573331],\n",
       "       [  2.9849787 ],\n",
       "       [ 21.11017291],\n",
       "       [  2.06495461],\n",
       "       [  2.2186954 ],\n",
       "       [  2.21282374],\n",
       "       [  2.4536021 ],\n",
       "       [  2.33797641],\n",
       "       [  2.08895781],\n",
       "       [  2.42583629],\n",
       "       [  2.16935048],\n",
       "       [  2.99724419],\n",
       "       [  3.21327965],\n",
       "       [  2.26483927],\n",
       "       [ 31.96741073],\n",
       "       [  5.70506766],\n",
       "       [  4.48845833],\n",
       "       [  5.40350837],\n",
       "       [  2.57524975],\n",
       "       [  2.53875505],\n",
       "       [  8.54075925],\n",
       "       [  2.15609681],\n",
       "       [  4.03387609],\n",
       "       [ 52.6675774 ],\n",
       "       [  2.95612462],\n",
       "       [  2.97583394],\n",
       "       [  2.17158829],\n",
       "       [  2.37434775],\n",
       "       [  2.2542119 ],\n",
       "       [  2.34887971],\n",
       "       [  2.4692709 ],\n",
       "       [  5.53285249],\n",
       "       [  5.31005747],\n",
       "       [  9.48912946],\n",
       "       [  2.78023026],\n",
       "       [  2.3794045 ],\n",
       "       [  3.76351009],\n",
       "       [  2.31097851],\n",
       "       [  2.35510184],\n",
       "       [  2.4337635 ],\n",
       "       [  2.72696298],\n",
       "       [  2.12761184],\n",
       "       [  2.1948633 ],\n",
       "       [  3.12501127],\n",
       "       [  3.31105141],\n",
       "       [  2.33570159],\n",
       "       [  3.00216946],\n",
       "       [  6.72482527],\n",
       "       [  6.22207993],\n",
       "       [  3.09424767],\n",
       "       [ 28.15962174],\n",
       "       [  2.04158659],\n",
       "       [  3.29559638],\n",
       "       [  2.40716919],\n",
       "       [  3.18316769],\n",
       "       [  3.23729525],\n",
       "       [  2.14721452],\n",
       "       [  2.26824538],\n",
       "       [  3.82279506],\n",
       "       [  2.64558824],\n",
       "       [  2.31994303],\n",
       "       [  2.80710685],\n",
       "       [  2.39263962],\n",
       "       [ 92.00102121],\n",
       "       [  2.27405048],\n",
       "       [  8.80746567],\n",
       "       [  2.49689941],\n",
       "       [  3.25997186],\n",
       "       [  2.13348114],\n",
       "       [  2.37093766],\n",
       "       [  2.79743372],\n",
       "       [  4.96949019],\n",
       "       [  2.33664324],\n",
       "       [  2.13837088],\n",
       "       [  3.29662486],\n",
       "       [  2.7692297 ],\n",
       "       [  1.89733791],\n",
       "       [  2.11281575],\n",
       "       [  2.15485861],\n",
       "       [  3.32365286],\n",
       "       [  3.93105174],\n",
       "       [  3.5794195 ],\n",
       "       [  2.52548182],\n",
       "       [  2.39589528],\n",
       "       [ 18.09689337],\n",
       "       [  2.38503353],\n",
       "       [  2.46663319],\n",
       "       [  4.18549061],\n",
       "       [  2.1674403 ],\n",
       "       [ 13.29643148],\n",
       "       [  2.56295089],\n",
       "       [  2.48095125],\n",
       "       [  3.1165572 ],\n",
       "       [  2.6360188 ],\n",
       "       [  3.46516507],\n",
       "       [  6.10337881],\n",
       "       [  3.11839193],\n",
       "       [  2.20914363],\n",
       "       [  4.44418068],\n",
       "       [  2.94966051],\n",
       "       [ 11.68399798],\n",
       "       [  2.55665522],\n",
       "       [  2.23667819],\n",
       "       [  3.09013808],\n",
       "       [  5.78126659],\n",
       "       [  2.81344038],\n",
       "       [  2.35891172],\n",
       "       [  3.91088938],\n",
       "       [  2.22101508],\n",
       "       [ 17.59156182],\n",
       "       [  2.34334633],\n",
       "       [  2.27999405],\n",
       "       [  2.19248615],\n",
       "       [  2.91154521],\n",
       "       [  4.33449749],\n",
       "       [ 10.00923531],\n",
       "       [  6.5584565 ],\n",
       "       [ 16.14264091],\n",
       "       [  3.06246299],\n",
       "       [  2.4938408 ],\n",
       "       [  2.19289494],\n",
       "       [  2.18057351],\n",
       "       [  2.92441255],\n",
       "       [  3.48738461],\n",
       "       [  2.63514003],\n",
       "       [  2.15985847],\n",
       "       [  3.55899392],\n",
       "       [  2.19679325],\n",
       "       [ 18.89007814],\n",
       "       [  2.11607133],\n",
       "       [  8.61916721],\n",
       "       [  2.95867241],\n",
       "       [  4.52562752],\n",
       "       [  2.57885291],\n",
       "       [  3.22009026],\n",
       "       [  2.08357383],\n",
       "       [  2.02609136],\n",
       "       [  2.33287633],\n",
       "       [  2.45147082],\n",
       "       [  4.13570828],\n",
       "       [  4.43033151],\n",
       "       [  2.43960283],\n",
       "       [  2.51153787],\n",
       "       [  2.17669683],\n",
       "       [  2.80480775],\n",
       "       [  2.43787456],\n",
       "       [ 11.61193389],\n",
       "       [  2.86923275],\n",
       "       [  2.18502991],\n",
       "       [  2.67012595],\n",
       "       [  3.04127311],\n",
       "       [  2.01672122],\n",
       "       [  2.27872564],\n",
       "       [  2.23500335],\n",
       "       [  2.69734893],\n",
       "       [  6.29835295],\n",
       "       [  6.15819378],\n",
       "       [  2.91550296],\n",
       "       [ 28.83231827],\n",
       "       [  2.48171397],\n",
       "       [  2.66734392],\n",
       "       [ 21.39270355],\n",
       "       [  2.4088451 ],\n",
       "       [  2.35035103],\n",
       "       [  2.46351335],\n",
       "       [  1.93726335],\n",
       "       [  2.41797598],\n",
       "       [  5.69213117],\n",
       "       [  8.31407243],\n",
       "       [  2.43537249],\n",
       "       [ 16.75552205],\n",
       "       [  3.21657586],\n",
       "       [  3.23329984],\n",
       "       [  2.34455703],\n",
       "       [  2.86742433],\n",
       "       [  1.78287763],\n",
       "       [  6.17309224],\n",
       "       [  2.52124423],\n",
       "       [  2.17201724],\n",
       "       [  2.14495146],\n",
       "       [  2.50563005],\n",
       "       [  3.86597551],\n",
       "       [ 12.10225765],\n",
       "       [  2.21243927],\n",
       "       [  7.68350514],\n",
       "       [  2.68621671],\n",
       "       [  9.96678027],\n",
       "       [  2.41151265],\n",
       "       [  3.28361568],\n",
       "       [  2.78849387],\n",
       "       [  3.20200958],\n",
       "       [  2.77403883],\n",
       "       [  2.66660871],\n",
       "       [  2.49526891],\n",
       "       [  2.10450863],\n",
       "       [ 24.66668134],\n",
       "       [  2.49950576],\n",
       "       [  2.80007776],\n",
       "       [  2.43803871],\n",
       "       [  3.82010439],\n",
       "       [  2.79743587],\n",
       "       [ 15.03004056],\n",
       "       [  2.07086101],\n",
       "       [  5.05212335],\n",
       "       [  8.66247372],\n",
       "       [  7.78790166],\n",
       "       [  2.17139696],\n",
       "       [  2.78476365],\n",
       "       [  5.43771679],\n",
       "       [  2.5457191 ],\n",
       "       [  2.128927  ],\n",
       "       [  2.08278348],\n",
       "       [  7.59369307],\n",
       "       [  2.57672037],\n",
       "       [  3.07238589],\n",
       "       [  2.15216107],\n",
       "       [  4.59814715],\n",
       "       [  7.93584372],\n",
       "       [  2.1108538 ],\n",
       "       [  5.17781917],\n",
       "       [  3.04524581],\n",
       "       [  3.02231632],\n",
       "       [  2.33905968],\n",
       "       [ 27.35143835],\n",
       "       [  2.6360873 ],\n",
       "       [  8.06522215],\n",
       "       [  4.07700934],\n",
       "       [  2.4139216 ],\n",
       "       [ 12.88398944],\n",
       "       [  2.67237764],\n",
       "       [ 10.97698616],\n",
       "       [ 62.55401827],\n",
       "       [ 40.56556326],\n",
       "       [ 36.30105364],\n",
       "       [  6.70361809],\n",
       "       [  4.93288963],\n",
       "       [  6.96951458],\n",
       "       [  5.41534514],\n",
       "       [  3.65641756],\n",
       "       [  5.03359614],\n",
       "       [  8.90059807],\n",
       "       [  3.03197409],\n",
       "       [  5.59210974],\n",
       "       [  3.60568196],\n",
       "       [  5.40777485],\n",
       "       [ 13.01369196],\n",
       "       [ 10.62549368],\n",
       "       [ 10.535282  ],\n",
       "       [  2.20709164],\n",
       "       [  3.18856382],\n",
       "       [  4.93092614],\n",
       "       [  2.87466498],\n",
       "       [ 37.30876785],\n",
       "       [  3.26245443],\n",
       "       [  2.80964828],\n",
       "       [  2.19460936],\n",
       "       [  2.85679243],\n",
       "       [  2.18948015],\n",
       "       [  2.9740733 ],\n",
       "       [  2.00048509],\n",
       "       [  3.04262335],\n",
       "       [  3.33452743],\n",
       "       [  5.09042989],\n",
       "       [  2.76133802],\n",
       "       [ 11.38901033],\n",
       "       [  2.34982298],\n",
       "       [  2.90791178],\n",
       "       [  2.25700433],\n",
       "       [  4.85208634],\n",
       "       [  2.44497441],\n",
       "       [  2.2655112 ],\n",
       "       [  5.19335444],\n",
       "       [  2.07409106],\n",
       "       [  5.60747526],\n",
       "       [  2.09199895],\n",
       "       [  5.01271767],\n",
       "       [  2.27475164],\n",
       "       [  2.33681413],\n",
       "       [ 11.44582838],\n",
       "       [  3.04810546],\n",
       "       [  2.29866196],\n",
       "       [  2.67248003],\n",
       "       [  2.55969068],\n",
       "       [  8.01462758],\n",
       "       [ 12.10237171],\n",
       "       [  2.85524334],\n",
       "       [  2.18552465],\n",
       "       [ 11.12046177],\n",
       "       [  2.80166113],\n",
       "       [  2.83222334],\n",
       "       [  2.71894562],\n",
       "       [  3.12394339],\n",
       "       [  2.95844247],\n",
       "       [  8.14402155],\n",
       "       [  2.68729257],\n",
       "       [  3.34340752],\n",
       "       [  2.90147495],\n",
       "       [  2.32535263],\n",
       "       [  2.1675151 ],\n",
       "       [  4.60940236],\n",
       "       [  2.54223422],\n",
       "       [  2.51284646],\n",
       "       [  4.47294281],\n",
       "       [  3.82084473],\n",
       "       [  8.28589836],\n",
       "       [  6.71423433],\n",
       "       [  2.5797357 ],\n",
       "       [  2.32391484],\n",
       "       [  3.86482586],\n",
       "       [  2.46254818],\n",
       "       [  3.34308301],\n",
       "       [  2.33276518],\n",
       "       [  2.22546395],\n",
       "       [  2.82953756],\n",
       "       [  2.14051067],\n",
       "       [  2.20045321],\n",
       "       [  2.85803597],\n",
       "       [  2.34074324],\n",
       "       [  2.48953371],\n",
       "       [  2.15470548],\n",
       "       [  2.44114778],\n",
       "       [  2.29280723],\n",
       "       [  1.99231382],\n",
       "       [  3.85909387],\n",
       "       [  2.30585085],\n",
       "       [  2.27949434],\n",
       "       [  2.33483087],\n",
       "       [  3.85684156],\n",
       "       [  2.31747354],\n",
       "       [  2.98339555],\n",
       "       [  2.47486406],\n",
       "       [  3.79488485],\n",
       "       [  2.33461383],\n",
       "       [  3.03456064],\n",
       "       [  2.1869161 ],\n",
       "       [  2.31296237],\n",
       "       [  2.22617167],\n",
       "       [  2.73793163],\n",
       "       [  3.9639955 ],\n",
       "       [  2.12607631],\n",
       "       [  2.1347647 ]])"
      ]
     },
     "execution_count": 640,
     "metadata": {},
     "output_type": "execute_result"
    }
   ],
   "source": [
    "lr.predict(X)"
   ]
  },
  {
   "cell_type": "code",
   "execution_count": 641,
   "metadata": {},
   "outputs": [
    {
     "data": {
      "text/plain": [
       "5.0399274047186937"
      ]
     },
     "execution_count": 641,
     "metadata": {},
     "output_type": "execute_result"
    }
   ],
   "source": [
    "lr.predict(X).mean()"
   ]
  },
  {
   "cell_type": "code",
   "execution_count": null,
   "metadata": {
    "collapsed": true
   },
   "outputs": [],
   "source": []
  },
  {
   "cell_type": "code",
   "execution_count": 630,
   "metadata": {},
   "outputs": [
    {
     "data": {
      "text/plain": [
       "[('evdcfastcount',\n",
       "  array([  9.33753856e-01,  -9.59446731e-06,   5.70125017e-06]))]"
      ]
     },
     "execution_count": 630,
     "metadata": {},
     "output_type": "execute_result"
    }
   ],
   "source": [
    "# create X and y\n",
    "X = df_ev_220x\n",
    "y = df_ev_220y\n",
    "\n",
    "# instantiate, fit\n",
    "lr = LinearRegression()\n",
    "lr.fit(X, y)\n",
    "\n",
    "# print coefficients\n",
    "zip(feature_cols, lr.coef_)"
   ]
  },
  {
   "cell_type": "code",
   "execution_count": 631,
   "metadata": {},
   "outputs": [
    {
     "data": {
      "text/plain": [
       "0.9926051033380705"
      ]
     },
     "execution_count": 631,
     "metadata": {},
     "output_type": "execute_result"
    }
   ],
   "source": [
    "lr.score(X, y)"
   ]
  },
  {
   "cell_type": "code",
   "execution_count": 632,
   "metadata": {
    "collapsed": true
   },
   "outputs": [
    {
     "data": {
      "text/plain": [
       "array([[ 0.93858275],\n",
       "       [ 7.75491235],\n",
       "       [ 4.42308503],\n",
       "       ..., \n",
       "       [ 1.83026177],\n",
       "       [ 1.06218897],\n",
       "       [ 1.08364779]])"
      ]
     },
     "execution_count": 632,
     "metadata": {},
     "output_type": "execute_result"
    }
   ],
   "source": [
    "lr.predict(X)"
   ]
  },
  {
   "cell_type": "code",
   "execution_count": 633,
   "metadata": {},
   "outputs": [
    {
     "data": {
      "text/plain": [
       "13.804483645718486"
      ]
     },
     "execution_count": 633,
     "metadata": {},
     "output_type": "execute_result"
    }
   ],
   "source": [
    "lr.predict(X).mean()"
   ]
  },
  {
   "cell_type": "code",
   "execution_count": null,
   "metadata": {
    "collapsed": true
   },
   "outputs": [],
   "source": []
  },
  {
   "cell_type": "code",
   "execution_count": 645,
   "metadata": {
    "collapsed": true
   },
   "outputs": [],
   "source": [
    "from sklearn.model_selection import train_test_split\n",
    "from sklearn.cross_validation import KFold"
   ]
  },
  {
   "cell_type": "code",
   "execution_count": 646,
   "metadata": {
    "collapsed": true
   },
   "outputs": [],
   "source": [
    "# Training setup, with random state\n",
    "training_data,holdout = train_test_split(df_ev_x,test_size=0.10,random_state=123)"
   ]
  },
  {
   "cell_type": "code",
   "execution_count": 647,
   "metadata": {
    "collapsed": true
   },
   "outputs": [],
   "source": [
    "# KFold setup\n",
    "n = training_data.shape[0]\n",
    "kf = KFold(X.shape[0],n_folds=6,random_state=1)"
   ]
  },
  {
   "cell_type": "code",
   "execution_count": 328,
   "metadata": {
    "collapsed": true
   },
   "outputs": [],
   "source": [
    "# Create model\n",
    "# lr_model = LinearRegression()"
   ]
  },
  {
   "cell_type": "code",
   "execution_count": 648,
   "metadata": {
    "collapsed": true
   },
   "outputs": [],
   "source": [
    "MAE_score = []\n",
    "MSE_score = []\n",
    "R2_scores = []\n",
    "RMSE_score = []\n",
    "\n",
    "# Use K-Folds cross validation to train your model / kfolds loop (define scores in the loop)\n",
    "# Fill-in the kfolds-loop:\n",
    "# use iloc with scikit\n",
    "\n",
    "for train_index, test_index in kf:\n",
    "    #print(\"TRAIN:\", train_index, \"TEST:\", test_index)\n",
    "    x_train, x_test = X.iloc[train_index], X.iloc[test_index]\n",
    "    y_train, y_true = y.iloc[train_index], y.iloc[test_index] \n",
    "    \n",
    "    # Fit your model on your training x and training y\n",
    "    lr.fit(x_train,y_train)\n",
    "    y_preds = lr.predict(x_test)\n",
    "    \n",
    "    fold_score1 = mean_squared_error(y_true,y_preds)\n",
    "    MSE_score.append(fold_score1)\n",
    "    \n",
    "    fold_score2 = mean_absolute_error(y_true,y_preds)\n",
    "    MAE_score.append(fold_score2)\n",
    "    \n",
    "    fold_score3 = r2_score(y_true,y_preds)\n",
    "    R2_scores.append(fold_score3)\n",
    "    \n",
    "    fold_score4 = sqrt(mean_squared_error(y_true,y_preds))\n",
    "    RMSE_score.append(fold_score4)"
   ]
  },
  {
   "cell_type": "code",
   "execution_count": 649,
   "metadata": {
    "scrolled": true
   },
   "outputs": [
    {
     "data": {
      "text/plain": [
       "array([[  4.88992796],\n",
       "       [  2.79870712],\n",
       "       [ 36.66983921],\n",
       "       [  3.22620699],\n",
       "       [  2.78501913],\n",
       "       [  2.13873283],\n",
       "       [  2.81824847],\n",
       "       [  2.1446486 ],\n",
       "       [  2.91178268],\n",
       "       [  1.9388303 ],\n",
       "       [  2.99502858],\n",
       "       [  3.30637434],\n",
       "       [  5.07099236],\n",
       "       [  2.73558246],\n",
       "       [ 10.97419236],\n",
       "       [  2.30046527],\n",
       "       [  2.84408213],\n",
       "       [  2.21285462],\n",
       "       [  4.85180034],\n",
       "       [  2.3657422 ],\n",
       "       [  2.20636455],\n",
       "       [  5.1517932 ],\n",
       "       [  2.02126039],\n",
       "       [  5.28951822],\n",
       "       [  2.03952027],\n",
       "       [  4.94458331],\n",
       "       [  2.23127885],\n",
       "       [  2.29727607],\n",
       "       [ 11.18965677],\n",
       "       [  3.01253617],\n",
       "       [  2.2563703 ],\n",
       "       [  2.64455957],\n",
       "       [  2.52711322],\n",
       "       [  7.89910621],\n",
       "       [ 11.93132379],\n",
       "       [  2.78523054],\n",
       "       [  2.14183221],\n",
       "       [ 10.84563286],\n",
       "       [  2.74432357],\n",
       "       [  2.7571261 ],\n",
       "       [  2.68021117],\n",
       "       [  3.03949568],\n",
       "       [  2.85835061],\n",
       "       [  8.05446954],\n",
       "       [  2.62297597],\n",
       "       [  3.24008219],\n",
       "       [  2.87135575],\n",
       "       [  2.26001188],\n",
       "       [  2.10855697],\n",
       "       [  4.46981102],\n",
       "       [  2.47866537],\n",
       "       [  2.45926427],\n",
       "       [  4.39865918],\n",
       "       [  3.78582901],\n",
       "       [  8.13016648],\n",
       "       [  6.46413816],\n",
       "       [  2.54488841],\n",
       "       [  2.27033478],\n",
       "       [  3.80023424],\n",
       "       [  2.41551675],\n",
       "       [  3.3238814 ],\n",
       "       [  2.28952026],\n",
       "       [  2.17718693],\n",
       "       [  2.79641424],\n",
       "       [  2.09043288],\n",
       "       [  2.14957297],\n",
       "       [  2.82032214],\n",
       "       [  2.27942051],\n",
       "       [  2.42873525],\n",
       "       [  2.10372023],\n",
       "       [  2.37936453],\n",
       "       [  2.25180041],\n",
       "       [  1.92474232],\n",
       "       [  3.70413225],\n",
       "       [  2.24318005],\n",
       "       [  2.22630987],\n",
       "       [  2.28920372],\n",
       "       [  3.80514534],\n",
       "       [  2.27740012],\n",
       "       [  2.91562139],\n",
       "       [  2.42238439],\n",
       "       [  3.74083986],\n",
       "       [  2.28356177],\n",
       "       [  2.98427895],\n",
       "       [  2.13647409],\n",
       "       [  2.27118788],\n",
       "       [  2.14971388],\n",
       "       [  2.6800026 ],\n",
       "       [  3.87437584],\n",
       "       [  2.07014443],\n",
       "       [  2.08443957]])"
      ]
     },
     "execution_count": 649,
     "metadata": {},
     "output_type": "execute_result"
    }
   ],
   "source": [
    "lr.predict(x_test)"
   ]
  },
  {
   "cell_type": "code",
   "execution_count": 664,
   "metadata": {},
   "outputs": [
    {
     "data": {
      "text/plain": [
       "3.7694724354118154"
      ]
     },
     "execution_count": 664,
     "metadata": {},
     "output_type": "execute_result"
    }
   ],
   "source": [
    "lr.predict(x_test).mean()"
   ]
  },
  {
   "cell_type": "code",
   "execution_count": 694,
   "metadata": {},
   "outputs": [
    {
     "ename": "AttributeError",
     "evalue": "'list' object has no attribute 'predict'",
     "output_type": "error",
     "traceback": [
      "\u001b[1;31m---------------------------------------------------------------------------\u001b[0m",
      "\u001b[1;31mAttributeError\u001b[0m                            Traceback (most recent call last)",
      "\u001b[1;32m<ipython-input-694-7a87208add79>\u001b[0m in \u001b[0;36m<module>\u001b[1;34m()\u001b[0m\n\u001b[1;32m----> 1\u001b[1;33m \u001b[0mR2_scores\u001b[0m\u001b[1;33m.\u001b[0m\u001b[0mpredict\u001b[0m\u001b[1;33m(\u001b[0m\u001b[0mx_test\u001b[0m\u001b[1;33m)\u001b[0m\u001b[1;33m\u001b[0m\u001b[0m\n\u001b[0m",
      "\u001b[1;31mAttributeError\u001b[0m: 'list' object has no attribute 'predict'"
     ]
    }
   ],
   "source": [
    "R2_scores.predict(x_test)"
   ]
  },
  {
   "cell_type": "code",
   "execution_count": 665,
   "metadata": {},
   "outputs": [
    {
     "data": {
      "text/plain": [
       "3.7694724354118154"
      ]
     },
     "execution_count": 665,
     "metadata": {},
     "output_type": "execute_result"
    }
   ],
   "source": [
    "y_preds.mean()"
   ]
  },
  {
   "cell_type": "code",
   "execution_count": 674,
   "metadata": {},
   "outputs": [
    {
     "data": {
      "text/plain": [
       "evlevel1evsenum    4.318681\n",
       "dtype: float64"
      ]
     },
     "execution_count": 674,
     "metadata": {},
     "output_type": "execute_result"
    }
   ],
   "source": [
    "y_true.mean()"
   ]
  },
  {
   "cell_type": "code",
   "execution_count": 675,
   "metadata": {},
   "outputs": [
    {
     "data": {
      "text/plain": [
       "ev_total        29.109890\n",
       "id          152599.934066\n",
       "pop_y        70810.483516\n",
       "dtype: float64"
      ]
     },
     "execution_count": 675,
     "metadata": {},
     "output_type": "execute_result"
    }
   ],
   "source": [
    "x_test.mean()"
   ]
  },
  {
   "cell_type": "code",
   "execution_count": 668,
   "metadata": {},
   "outputs": [
    {
     "data": {
      "text/plain": [
       "[153.42353263519081,\n",
       " 27.59693961059223,\n",
       " 100.54004519177397,\n",
       " 19.967855619366581,\n",
       " 116.93022230991095,\n",
       " 36.715598676922575]"
      ]
     },
     "execution_count": 668,
     "metadata": {},
     "output_type": "execute_result"
    }
   ],
   "source": [
    "# mean squared error\n",
    "MSE_score"
   ]
  },
  {
   "cell_type": "code",
   "execution_count": 676,
   "metadata": {},
   "outputs": [
    {
     "data": {
      "text/plain": [
       "[4.3465640684164564,\n",
       " 2.7749873841717165,\n",
       " 4.2205373754249944,\n",
       " 2.7457991559030597,\n",
       " 5.1086303525043455,\n",
       " 2.5052031224055549]"
      ]
     },
     "execution_count": 676,
     "metadata": {},
     "output_type": "execute_result"
    }
   ],
   "source": [
    "# mean absolute error\n",
    "MAE_score"
   ]
  },
  {
   "cell_type": "code",
   "execution_count": 677,
   "metadata": {},
   "outputs": [
    {
     "data": {
      "text/plain": [
       "[12.386425337246854,\n",
       " 5.253278938966808,\n",
       " 10.026965901596254,\n",
       " 4.468540658801997,\n",
       " 10.813427870472477,\n",
       " 6.059339788865002]"
      ]
     },
     "execution_count": 677,
     "metadata": {},
     "output_type": "execute_result"
    }
   ],
   "source": [
    "# root squared mean error\n",
    "RMSE_score"
   ]
  },
  {
   "cell_type": "code",
   "execution_count": 678,
   "metadata": {},
   "outputs": [
    {
     "data": {
      "text/plain": [
       "[0.43444832237969078,\n",
       " 0.32652353078744345,\n",
       " -0.060992233051192501,\n",
       " 0.11240458816812737,\n",
       " 0.36083689987898282,\n",
       " 0.45846833073838389]"
      ]
     },
     "execution_count": 678,
     "metadata": {},
     "output_type": "execute_result"
    }
   ],
   "source": [
    "# root squared\n",
    "R2_scores"
   ]
  },
  {
   "cell_type": "code",
   "execution_count": 681,
   "metadata": {},
   "outputs": [
    {
     "data": {
      "text/plain": [
       "array([ 2.02565615])"
      ]
     },
     "execution_count": 681,
     "metadata": {},
     "output_type": "execute_result"
    }
   ],
   "source": [
    "# normalize view\n",
    "lr.intercept_"
   ]
  },
  {
   "cell_type": "code",
   "execution_count": 682,
   "metadata": {},
   "outputs": [
    {
     "data": {
      "text/plain": [
       "[array([ 4.88992796]),\n",
       " array([ 2.79870712]),\n",
       " array([ 36.66983921]),\n",
       " array([ 3.22620699]),\n",
       " array([ 2.78501913])]"
      ]
     },
     "execution_count": 682,
     "metadata": {},
     "output_type": "execute_result"
    }
   ],
   "source": [
    "list(lr.predict(x_test)[0:5]) "
   ]
  },
  {
   "cell_type": "code",
   "execution_count": null,
   "metadata": {
    "collapsed": true
   },
   "outputs": [],
   "source": []
  },
  {
   "cell_type": "code",
   "execution_count": null,
   "metadata": {
    "collapsed": true
   },
   "outputs": [],
   "source": [
    "# Holdout Testing"
   ]
  },
  {
   "cell_type": "code",
   "execution_count": 683,
   "metadata": {
    "collapsed": true
   },
   "outputs": [],
   "source": [
    "# Training setup\n",
    "training_data = holdout"
   ]
  },
  {
   "cell_type": "code",
   "execution_count": 684,
   "metadata": {},
   "outputs": [
    {
     "data": {
      "text/html": [
       "<div>\n",
       "<style>\n",
       "    .dataframe thead tr:only-child th {\n",
       "        text-align: right;\n",
       "    }\n",
       "\n",
       "    .dataframe thead th {\n",
       "        text-align: left;\n",
       "    }\n",
       "\n",
       "    .dataframe tbody tr th {\n",
       "        vertical-align: top;\n",
       "    }\n",
       "</style>\n",
       "<table border=\"1\" class=\"dataframe\">\n",
       "  <thead>\n",
       "    <tr style=\"text-align: right;\">\n",
       "      <th></th>\n",
       "      <th>ev_total</th>\n",
       "      <th>id</th>\n",
       "      <th>evdcfastcount</th>\n",
       "      <th>evlevel1evsenum</th>\n",
       "      <th>evlevel2evsenum</th>\n",
       "      <th>pop_y</th>\n",
       "    </tr>\n",
       "  </thead>\n",
       "  <tbody>\n",
       "    <tr>\n",
       "      <th>343</th>\n",
       "      <td>5</td>\n",
       "      <td>41810</td>\n",
       "      <td>2</td>\n",
       "      <td>0</td>\n",
       "      <td>3</td>\n",
       "      <td>45016</td>\n",
       "    </tr>\n",
       "  </tbody>\n",
       "</table>\n",
       "</div>"
      ],
      "text/plain": [
       "     ev_total     id  evdcfastcount  evlevel1evsenum  evlevel2evsenum  pop_y\n",
       "343         5  41810              2                0                3  45016"
      ]
     },
     "execution_count": 684,
     "metadata": {},
     "output_type": "execute_result"
    }
   ],
   "source": [
    "holdout.head(1)"
   ]
  },
  {
   "cell_type": "code",
   "execution_count": 686,
   "metadata": {},
   "outputs": [
    {
     "ename": "KeyError",
     "evalue": "\"['ev_total_mean'] not in index\"",
     "output_type": "error",
     "traceback": [
      "\u001b[1;31m---------------------------------------------------------------------------\u001b[0m",
      "\u001b[1;31mKeyError\u001b[0m                                  Traceback (most recent call last)",
      "\u001b[1;32m<ipython-input-686-071fb0ba1cac>\u001b[0m in \u001b[0;36m<module>\u001b[1;34m()\u001b[0m\n\u001b[1;32m----> 1\u001b[1;33m \u001b[0mX\u001b[0m \u001b[1;33m=\u001b[0m \u001b[0mholdout\u001b[0m\u001b[1;33m[\u001b[0m\u001b[0mfeature_cols\u001b[0m\u001b[1;33m]\u001b[0m\u001b[1;33m\u001b[0m\u001b[0m\n\u001b[0m\u001b[0;32m      2\u001b[0m \u001b[0my\u001b[0m \u001b[1;33m=\u001b[0m \u001b[0mholdout\u001b[0m\u001b[1;33m.\u001b[0m\u001b[0mdf_ev_x\u001b[0m\u001b[1;33m,\u001b[0m\u001b[0mtest\u001b[0m\u001b[1;33m\u001b[0m\u001b[0m\n",
      "\u001b[1;32mC:\\Users\\cmagann\\AppData\\Local\\Continuum\\Anaconda2\\lib\\site-packages\\pandas\\core\\frame.pyc\u001b[0m in \u001b[0;36m__getitem__\u001b[1;34m(self, key)\u001b[0m\n\u001b[0;32m   2054\u001b[0m         \u001b[1;32mif\u001b[0m \u001b[0misinstance\u001b[0m\u001b[1;33m(\u001b[0m\u001b[0mkey\u001b[0m\u001b[1;33m,\u001b[0m \u001b[1;33m(\u001b[0m\u001b[0mSeries\u001b[0m\u001b[1;33m,\u001b[0m \u001b[0mnp\u001b[0m\u001b[1;33m.\u001b[0m\u001b[0mndarray\u001b[0m\u001b[1;33m,\u001b[0m \u001b[0mIndex\u001b[0m\u001b[1;33m,\u001b[0m \u001b[0mlist\u001b[0m\u001b[1;33m)\u001b[0m\u001b[1;33m)\u001b[0m\u001b[1;33m:\u001b[0m\u001b[1;33m\u001b[0m\u001b[0m\n\u001b[0;32m   2055\u001b[0m             \u001b[1;31m# either boolean or fancy integer index\u001b[0m\u001b[1;33m\u001b[0m\u001b[1;33m\u001b[0m\u001b[0m\n\u001b[1;32m-> 2056\u001b[1;33m             \u001b[1;32mreturn\u001b[0m \u001b[0mself\u001b[0m\u001b[1;33m.\u001b[0m\u001b[0m_getitem_array\u001b[0m\u001b[1;33m(\u001b[0m\u001b[0mkey\u001b[0m\u001b[1;33m)\u001b[0m\u001b[1;33m\u001b[0m\u001b[0m\n\u001b[0m\u001b[0;32m   2057\u001b[0m         \u001b[1;32melif\u001b[0m \u001b[0misinstance\u001b[0m\u001b[1;33m(\u001b[0m\u001b[0mkey\u001b[0m\u001b[1;33m,\u001b[0m \u001b[0mDataFrame\u001b[0m\u001b[1;33m)\u001b[0m\u001b[1;33m:\u001b[0m\u001b[1;33m\u001b[0m\u001b[0m\n\u001b[0;32m   2058\u001b[0m             \u001b[1;32mreturn\u001b[0m \u001b[0mself\u001b[0m\u001b[1;33m.\u001b[0m\u001b[0m_getitem_frame\u001b[0m\u001b[1;33m(\u001b[0m\u001b[0mkey\u001b[0m\u001b[1;33m)\u001b[0m\u001b[1;33m\u001b[0m\u001b[0m\n",
      "\u001b[1;32mC:\\Users\\cmagann\\AppData\\Local\\Continuum\\Anaconda2\\lib\\site-packages\\pandas\\core\\frame.pyc\u001b[0m in \u001b[0;36m_getitem_array\u001b[1;34m(self, key)\u001b[0m\n\u001b[0;32m   2098\u001b[0m             \u001b[1;32mreturn\u001b[0m \u001b[0mself\u001b[0m\u001b[1;33m.\u001b[0m\u001b[0mtake\u001b[0m\u001b[1;33m(\u001b[0m\u001b[0mindexer\u001b[0m\u001b[1;33m,\u001b[0m \u001b[0maxis\u001b[0m\u001b[1;33m=\u001b[0m\u001b[1;36m0\u001b[0m\u001b[1;33m,\u001b[0m \u001b[0mconvert\u001b[0m\u001b[1;33m=\u001b[0m\u001b[0mFalse\u001b[0m\u001b[1;33m)\u001b[0m\u001b[1;33m\u001b[0m\u001b[0m\n\u001b[0;32m   2099\u001b[0m         \u001b[1;32melse\u001b[0m\u001b[1;33m:\u001b[0m\u001b[1;33m\u001b[0m\u001b[0m\n\u001b[1;32m-> 2100\u001b[1;33m             \u001b[0mindexer\u001b[0m \u001b[1;33m=\u001b[0m \u001b[0mself\u001b[0m\u001b[1;33m.\u001b[0m\u001b[0mloc\u001b[0m\u001b[1;33m.\u001b[0m\u001b[0m_convert_to_indexer\u001b[0m\u001b[1;33m(\u001b[0m\u001b[0mkey\u001b[0m\u001b[1;33m,\u001b[0m \u001b[0maxis\u001b[0m\u001b[1;33m=\u001b[0m\u001b[1;36m1\u001b[0m\u001b[1;33m)\u001b[0m\u001b[1;33m\u001b[0m\u001b[0m\n\u001b[0m\u001b[0;32m   2101\u001b[0m             \u001b[1;32mreturn\u001b[0m \u001b[0mself\u001b[0m\u001b[1;33m.\u001b[0m\u001b[0mtake\u001b[0m\u001b[1;33m(\u001b[0m\u001b[0mindexer\u001b[0m\u001b[1;33m,\u001b[0m \u001b[0maxis\u001b[0m\u001b[1;33m=\u001b[0m\u001b[1;36m1\u001b[0m\u001b[1;33m,\u001b[0m \u001b[0mconvert\u001b[0m\u001b[1;33m=\u001b[0m\u001b[0mTrue\u001b[0m\u001b[1;33m)\u001b[0m\u001b[1;33m\u001b[0m\u001b[0m\n\u001b[0;32m   2102\u001b[0m \u001b[1;33m\u001b[0m\u001b[0m\n",
      "\u001b[1;32mC:\\Users\\cmagann\\AppData\\Local\\Continuum\\Anaconda2\\lib\\site-packages\\pandas\\core\\indexing.pyc\u001b[0m in \u001b[0;36m_convert_to_indexer\u001b[1;34m(self, obj, axis, is_setter)\u001b[0m\n\u001b[0;32m   1229\u001b[0m                 \u001b[0mmask\u001b[0m \u001b[1;33m=\u001b[0m \u001b[0mcheck\u001b[0m \u001b[1;33m==\u001b[0m \u001b[1;33m-\u001b[0m\u001b[1;36m1\u001b[0m\u001b[1;33m\u001b[0m\u001b[0m\n\u001b[0;32m   1230\u001b[0m                 \u001b[1;32mif\u001b[0m \u001b[0mmask\u001b[0m\u001b[1;33m.\u001b[0m\u001b[0many\u001b[0m\u001b[1;33m(\u001b[0m\u001b[1;33m)\u001b[0m\u001b[1;33m:\u001b[0m\u001b[1;33m\u001b[0m\u001b[0m\n\u001b[1;32m-> 1231\u001b[1;33m                     \u001b[1;32mraise\u001b[0m \u001b[0mKeyError\u001b[0m\u001b[1;33m(\u001b[0m\u001b[1;34m'%s not in index'\u001b[0m \u001b[1;33m%\u001b[0m \u001b[0mobjarr\u001b[0m\u001b[1;33m[\u001b[0m\u001b[0mmask\u001b[0m\u001b[1;33m]\u001b[0m\u001b[1;33m)\u001b[0m\u001b[1;33m\u001b[0m\u001b[0m\n\u001b[0m\u001b[0;32m   1232\u001b[0m \u001b[1;33m\u001b[0m\u001b[0m\n\u001b[0;32m   1233\u001b[0m                 \u001b[1;32mreturn\u001b[0m \u001b[0m_values_from_object\u001b[0m\u001b[1;33m(\u001b[0m\u001b[0mindexer\u001b[0m\u001b[1;33m)\u001b[0m\u001b[1;33m\u001b[0m\u001b[0m\n",
      "\u001b[1;31mKeyError\u001b[0m: \"['ev_total_mean'] not in index\""
     ]
    }
   ],
   "source": [
    "X = holdout[feature_cols]\n",
    "y = holdout.df_ev_x,test"
   ]
  },
  {
   "cell_type": "code",
   "execution_count": 688,
   "metadata": {},
   "outputs": [
    {
     "data": {
      "text/plain": [
       "array([[  2.18196224],\n",
       "       [  6.08188389],\n",
       "       [  2.53246448],\n",
       "       [  2.14143081],\n",
       "       [  2.16280959],\n",
       "       [  3.5982078 ],\n",
       "       [  5.2880701 ],\n",
       "       [  9.40851491],\n",
       "       [  2.52070503],\n",
       "       [  2.15806819],\n",
       "       [  2.38261028],\n",
       "       [ 12.1928388 ],\n",
       "       [  2.09040403],\n",
       "       [  6.67278308],\n",
       "       [  4.13339757],\n",
       "       [  2.08161506],\n",
       "       [  2.05166741],\n",
       "       [  1.90278829],\n",
       "       [  3.28656201],\n",
       "       [  2.21981861],\n",
       "       [  9.07964474],\n",
       "       [  3.83286887],\n",
       "       [  3.17096744],\n",
       "       [  2.28137274],\n",
       "       [  5.52875983],\n",
       "       [  2.6595084 ],\n",
       "       [ 60.29852466],\n",
       "       [  2.75586935],\n",
       "       [ 42.19698834],\n",
       "       [  2.12704502],\n",
       "       [  2.78841849],\n",
       "       [  2.12395647],\n",
       "       [ 29.84591513],\n",
       "       [  2.8708498 ],\n",
       "       [  2.78690461],\n",
       "       [  4.74437385],\n",
       "       [  2.35962855],\n",
       "       [  4.63318125],\n",
       "       [  2.50463237],\n",
       "       [  2.18576538],\n",
       "       [  2.06079804],\n",
       "       [  2.11662822],\n",
       "       [ 15.6620767 ],\n",
       "       [  4.46188518],\n",
       "       [  3.34952549],\n",
       "       [  2.32065924],\n",
       "       [  3.5149966 ],\n",
       "       [  2.16013568],\n",
       "       [  2.23903564],\n",
       "       [  9.63110229],\n",
       "       [  7.34295764],\n",
       "       [  2.14880468],\n",
       "       [  2.20215296],\n",
       "       [  2.16133422],\n",
       "       [ 20.66343306],\n",
       "       [  3.76212401],\n",
       "       [ 13.48732049],\n",
       "       [  3.907028  ],\n",
       "       [  5.22220191],\n",
       "       [  3.59360672],\n",
       "       [  2.13720231],\n",
       "       [  2.32843901],\n",
       "       [  3.16961336],\n",
       "       [  7.46834133],\n",
       "       [  5.19105533],\n",
       "       [  2.60020816],\n",
       "       [  2.07537783],\n",
       "       [  3.03232084],\n",
       "       [  2.50769086],\n",
       "       [  2.25011301],\n",
       "       [ 10.72659975],\n",
       "       [  5.31563318],\n",
       "       [  2.67337992],\n",
       "       [  2.56586643],\n",
       "       [  2.2937501 ],\n",
       "       [  2.13711262],\n",
       "       [  7.86389827],\n",
       "       [  2.07308081],\n",
       "       [  4.28483865],\n",
       "       [  2.15722328],\n",
       "       [  3.56523887],\n",
       "       [  9.12954871],\n",
       "       [  2.19748004],\n",
       "       [  4.9365908 ],\n",
       "       [  2.06596994],\n",
       "       [ 16.07074051],\n",
       "       [  2.17921381],\n",
       "       [  2.86719777],\n",
       "       [  2.25100604],\n",
       "       [  2.12722065],\n",
       "       [ 15.58458718],\n",
       "       [  3.93528218],\n",
       "       [  2.12260085],\n",
       "       [ 10.71667745],\n",
       "       [  2.12315489],\n",
       "       [  2.77207431],\n",
       "       [  2.24518943],\n",
       "       [  2.1576267 ],\n",
       "       [  3.87323107],\n",
       "       [  2.39992234],\n",
       "       [  2.11094779],\n",
       "       [  2.24699322],\n",
       "       [  2.46777078],\n",
       "       [  2.23212141],\n",
       "       [  2.30281708],\n",
       "       [  3.90524522],\n",
       "       [  4.58927121],\n",
       "       [  3.83450335],\n",
       "       [  5.12281372],\n",
       "       [  3.04911667],\n",
       "       [  5.7963099 ],\n",
       "       [  2.80626661],\n",
       "       [  2.32670058],\n",
       "       [  2.72362444],\n",
       "       [  1.80479393],\n",
       "       [  3.3173785 ],\n",
       "       [  4.73078833],\n",
       "       [  8.28762279],\n",
       "       [  2.44372073],\n",
       "       [  2.17312637],\n",
       "       [  2.36980218],\n",
       "       [  2.37271552],\n",
       "       [  2.09846347],\n",
       "       [ 17.85417753],\n",
       "       [  2.62124282],\n",
       "       [  2.21404652],\n",
       "       [  3.40614347],\n",
       "       [  8.14965615],\n",
       "       [  3.57988152],\n",
       "       [  2.1400699 ],\n",
       "       [  2.33537715],\n",
       "       [  1.96056217],\n",
       "       [  3.38994264],\n",
       "       [ 18.23508602],\n",
       "       [  2.40932792],\n",
       "       [  3.26012675],\n",
       "       [  3.6291595 ],\n",
       "       [ 10.3810985 ],\n",
       "       [  2.34911778],\n",
       "       [  2.29149611],\n",
       "       [  5.02547193],\n",
       "       [  2.66062379],\n",
       "       [  4.44365308],\n",
       "       [  3.78004741],\n",
       "       [  8.1787468 ],\n",
       "       [  2.09280486],\n",
       "       [  2.25858238],\n",
       "       [  2.44182621],\n",
       "       [  2.40995991],\n",
       "       [  3.3442089 ],\n",
       "       [  2.05914408],\n",
       "       [  2.29254526],\n",
       "       [  2.16589563],\n",
       "       [  2.82376516],\n",
       "       [  2.22411635],\n",
       "       [  3.93306493],\n",
       "       [  2.30004477],\n",
       "       [  6.99489808],\n",
       "       [  4.02874031],\n",
       "       [  2.44098874],\n",
       "       [  2.1704122 ],\n",
       "       [  2.66587449],\n",
       "       [  4.69271307],\n",
       "       [  2.21992267],\n",
       "       [  2.56868896],\n",
       "       [  2.67902598],\n",
       "       [  2.84130484],\n",
       "       [  2.84172784],\n",
       "       [  2.8932529 ],\n",
       "       [  2.6248533 ],\n",
       "       [  2.10168318],\n",
       "       [  2.15601031],\n",
       "       [  7.8263754 ],\n",
       "       [  2.10744519],\n",
       "       [  3.31436596],\n",
       "       [  2.79107514],\n",
       "       [  3.93049887],\n",
       "       [  2.66514147],\n",
       "       [  2.09335949],\n",
       "       [  2.14023296],\n",
       "       [  7.93623195],\n",
       "       [  2.27049667],\n",
       "       [  5.45199478],\n",
       "       [  3.90229018],\n",
       "       [  2.52437022],\n",
       "       [  2.42543279],\n",
       "       [  2.05477672],\n",
       "       [  4.13655394],\n",
       "       [  2.78254684],\n",
       "       [  2.36797825],\n",
       "       [  2.94753861],\n",
       "       [  7.38407078],\n",
       "       [  3.75590712],\n",
       "       [  3.03857244],\n",
       "       [  2.41379579],\n",
       "       [  3.14156248],\n",
       "       [  7.13890042],\n",
       "       [  2.25310947],\n",
       "       [  2.25603801],\n",
       "       [  2.24826081],\n",
       "       [  9.05318632],\n",
       "       [  2.14400417],\n",
       "       [  2.28382515],\n",
       "       [  2.55573825],\n",
       "       [  2.34906308],\n",
       "       [ 11.76640235],\n",
       "       [  2.60110163],\n",
       "       [  2.25289125],\n",
       "       [  4.7988037 ],\n",
       "       [  2.29537888],\n",
       "       [ 21.06098855],\n",
       "       [  2.94401433],\n",
       "       [ 20.32925507],\n",
       "       [  2.01175283],\n",
       "       [  2.17991367],\n",
       "       [  2.16190396],\n",
       "       [  2.39109287],\n",
       "       [  2.29354623],\n",
       "       [  2.03673989],\n",
       "       [  2.3338892 ],\n",
       "       [  2.11490192],\n",
       "       [  2.92443607],\n",
       "       [  3.17389302],\n",
       "       [  2.22799594],\n",
       "       [ 31.50378556],\n",
       "       [  5.51123515],\n",
       "       [  4.34258218],\n",
       "       [  5.27393286],\n",
       "       [  2.52279962],\n",
       "       [  2.49464297],\n",
       "       [  8.55801129],\n",
       "       [  2.10909873],\n",
       "       [  3.93090846],\n",
       "       [ 51.64039958],\n",
       "       [  2.8916007 ],\n",
       "       [  2.97455084],\n",
       "       [  2.1189007 ],\n",
       "       [  2.32240051],\n",
       "       [  2.19446031],\n",
       "       [  2.27501046],\n",
       "       [  2.42438263],\n",
       "       [  5.51388891],\n",
       "       [  5.31022229],\n",
       "       [  9.35332444],\n",
       "       [  2.73451537],\n",
       "       [  2.3276598 ],\n",
       "       [  3.65694124],\n",
       "       [  2.26590174],\n",
       "       [  2.28123388],\n",
       "       [  2.36305068],\n",
       "       [  2.66901208],\n",
       "       [  2.07699028],\n",
       "       [  2.15195502],\n",
       "       [  3.04639144],\n",
       "       [  3.25693964],\n",
       "       [  2.2704728 ],\n",
       "       [  2.96222455],\n",
       "       [  6.59768435],\n",
       "       [  6.21792222],\n",
       "       [  3.05004757],\n",
       "       [ 28.27855906],\n",
       "       [  1.98435946],\n",
       "       [  3.23110992],\n",
       "       [  2.34286327],\n",
       "       [  3.15318105],\n",
       "       [  3.16800553],\n",
       "       [  2.08114083],\n",
       "       [  2.20999509],\n",
       "       [  3.73023459],\n",
       "       [  2.54665666],\n",
       "       [  2.27995644],\n",
       "       [  2.74249735],\n",
       "       [  2.34638427],\n",
       "       [ 88.58915689],\n",
       "       [  2.21475945],\n",
       "       [  8.82053792],\n",
       "       [  2.43143384],\n",
       "       [  3.20139342],\n",
       "       [  2.08345078],\n",
       "       [  2.31908446],\n",
       "       [  2.74643118],\n",
       "       [  4.86641143],\n",
       "       [  2.29951965],\n",
       "       [  2.08854349],\n",
       "       [  3.22549567],\n",
       "       [  2.69381524],\n",
       "       [  1.83205527],\n",
       "       [  2.05614571],\n",
       "       [  2.10781265],\n",
       "       [  3.2832068 ],\n",
       "       [  3.89845108],\n",
       "       [  3.53230017],\n",
       "       [  2.48215213],\n",
       "       [  2.36007311],\n",
       "       [ 17.62242457],\n",
       "       [  2.34529661],\n",
       "       [  2.43180934],\n",
       "       [  4.1615969 ],\n",
       "       [  2.12188867],\n",
       "       [ 13.28015583],\n",
       "       [  2.49031657],\n",
       "       [  2.42631028],\n",
       "       [  3.0346966 ],\n",
       "       [  2.57718055],\n",
       "       [  3.3577194 ],\n",
       "       [  6.14668352],\n",
       "       [  3.0297734 ],\n",
       "       [  2.16683363],\n",
       "       [  4.35439321],\n",
       "       [  2.87007613],\n",
       "       [ 11.53428965],\n",
       "       [  2.50670756],\n",
       "       [  2.19845299],\n",
       "       [  3.04420196],\n",
       "       [  5.74885287],\n",
       "       [  2.75093463],\n",
       "       [  2.31824196],\n",
       "       [  3.8780278 ],\n",
       "       [  2.17918731],\n",
       "       [ 17.27855865],\n",
       "       [  2.26462673],\n",
       "       [  2.2257851 ],\n",
       "       [  2.1490833 ],\n",
       "       [  2.83262685],\n",
       "       [  4.2811872 ],\n",
       "       [ 10.04455926],\n",
       "       [  6.64073474],\n",
       "       [ 15.88764794],\n",
       "       [  3.02763692],\n",
       "       [  2.44973563],\n",
       "       [  2.1387989 ],\n",
       "       [  2.13458822],\n",
       "       [  2.79768371],\n",
       "       [  3.41280638],\n",
       "       [  2.54098134],\n",
       "       [  2.11301752],\n",
       "       [  3.47429312],\n",
       "       [  2.14607722],\n",
       "       [ 18.81496726],\n",
       "       [  2.02010784],\n",
       "       [  8.485973  ],\n",
       "       [  2.89753579],\n",
       "       [  4.43557099],\n",
       "       [  2.53045533],\n",
       "       [  3.16390033],\n",
       "       [  2.03074693],\n",
       "       [  1.95690749],\n",
       "       [  2.2796008 ],\n",
       "       [  2.36900875],\n",
       "       [  4.14622107],\n",
       "       [  4.38505141],\n",
       "       [  2.36493266],\n",
       "       [  2.46885882],\n",
       "       [  2.11258175],\n",
       "       [  2.73563483],\n",
       "       [  2.38228914],\n",
       "       [ 11.14874668],\n",
       "       [  2.79584657],\n",
       "       [  2.14001498],\n",
       "       [  2.60448347],\n",
       "       [  2.99003931],\n",
       "       [  1.8487017 ],\n",
       "       [  2.24218791],\n",
       "       [  2.17197815],\n",
       "       [  2.63697341],\n",
       "       [  6.23126512],\n",
       "       [  6.04690333],\n",
       "       [  2.83644998],\n",
       "       [ 28.61147346],\n",
       "       [  2.45305764],\n",
       "       [  2.63279551],\n",
       "       [ 20.91908935],\n",
       "       [  2.36096564],\n",
       "       [  2.3016912 ],\n",
       "       [  2.41716782],\n",
       "       [  1.85613469],\n",
       "       [  2.37859749],\n",
       "       [  5.61072268],\n",
       "       [  8.24801184],\n",
       "       [  2.3792799 ],\n",
       "       [ 16.57077859],\n",
       "       [  3.14625333],\n",
       "       [  3.16828649],\n",
       "       [  2.2837721 ],\n",
       "       [  2.7875118 ],\n",
       "       [  1.70903344],\n",
       "       [  6.05736405],\n",
       "       [  2.46311358],\n",
       "       [  2.12665422],\n",
       "       [  2.09847092],\n",
       "       [  2.40679825],\n",
       "       [  3.5993241 ],\n",
       "       [ 12.08159722],\n",
       "       [  2.16985668],\n",
       "       [  7.52326275],\n",
       "       [  2.62635746],\n",
       "       [  9.91365575],\n",
       "       [  2.37588989],\n",
       "       [  3.13284344],\n",
       "       [  2.73863089],\n",
       "       [  3.17822826],\n",
       "       [  2.69489489],\n",
       "       [  2.61842986],\n",
       "       [  2.42782272],\n",
       "       [  2.05294217],\n",
       "       [ 24.12937498],\n",
       "       [  2.44647731],\n",
       "       [  2.74127329],\n",
       "       [  2.39310888],\n",
       "       [  3.76357712],\n",
       "       [  2.73672689],\n",
       "       [ 14.81944242],\n",
       "       [  2.01750848],\n",
       "       [  4.97846834],\n",
       "       [  8.62064592],\n",
       "       [  7.69051249],\n",
       "       [  2.12582057],\n",
       "       [  2.72015058],\n",
       "       [  5.33793895],\n",
       "       [  2.49810252],\n",
       "       [  2.07166698],\n",
       "       [  2.03032036],\n",
       "       [  7.43440645],\n",
       "       [  2.5495607 ],\n",
       "       [  3.04447322],\n",
       "       [  2.09675231],\n",
       "       [  4.52005889],\n",
       "       [  7.45645555],\n",
       "       [  2.0557151 ],\n",
       "       [  5.05787588],\n",
       "       [  3.00213724],\n",
       "       [  2.94497311],\n",
       "       [  2.25425798],\n",
       "       [ 26.35325232],\n",
       "       [  2.54618275],\n",
       "       [  8.0050545 ],\n",
       "       [  4.01468322],\n",
       "       [  2.36996705],\n",
       "       [ 12.75944467],\n",
       "       [  2.60903582],\n",
       "       [ 10.68790457],\n",
       "       [ 61.10127182],\n",
       "       [ 39.73409698],\n",
       "       [ 35.40517111],\n",
       "       [  6.61799244],\n",
       "       [  4.79725516],\n",
       "       [  6.902427  ],\n",
       "       [  5.47386298],\n",
       "       [  3.57271445],\n",
       "       [  4.82795035],\n",
       "       [  8.78157089],\n",
       "       [  2.97133115],\n",
       "       [  5.53461503],\n",
       "       [  3.48334958],\n",
       "       [  5.40607683],\n",
       "       [ 12.61435844],\n",
       "       [ 10.45449777],\n",
       "       [ 10.57872033],\n",
       "       [  2.16429004],\n",
       "       [  3.16016151],\n",
       "       [  4.88992796],\n",
       "       [  2.79870712],\n",
       "       [ 36.66983921],\n",
       "       [  3.22620699],\n",
       "       [  2.78501913],\n",
       "       [  2.13873283],\n",
       "       [  2.81824847],\n",
       "       [  2.1446486 ],\n",
       "       [  2.91178268],\n",
       "       [  1.9388303 ],\n",
       "       [  2.99502858],\n",
       "       [  3.30637434],\n",
       "       [  5.07099236],\n",
       "       [  2.73558246],\n",
       "       [ 10.97419236],\n",
       "       [  2.30046527],\n",
       "       [  2.84408213],\n",
       "       [  2.21285462],\n",
       "       [  4.85180034],\n",
       "       [  2.3657422 ],\n",
       "       [  2.20636455],\n",
       "       [  5.1517932 ],\n",
       "       [  2.02126039],\n",
       "       [  5.28951822],\n",
       "       [  2.03952027],\n",
       "       [  4.94458331],\n",
       "       [  2.23127885],\n",
       "       [  2.29727607],\n",
       "       [ 11.18965677],\n",
       "       [  3.01253617],\n",
       "       [  2.2563703 ],\n",
       "       [  2.64455957],\n",
       "       [  2.52711322],\n",
       "       [  7.89910621],\n",
       "       [ 11.93132379],\n",
       "       [  2.78523054],\n",
       "       [  2.14183221],\n",
       "       [ 10.84563286],\n",
       "       [  2.74432357],\n",
       "       [  2.7571261 ],\n",
       "       [  2.68021117],\n",
       "       [  3.03949568],\n",
       "       [  2.85835061],\n",
       "       [  8.05446954],\n",
       "       [  2.62297597],\n",
       "       [  3.24008219],\n",
       "       [  2.87135575],\n",
       "       [  2.26001188],\n",
       "       [  2.10855697],\n",
       "       [  4.46981102],\n",
       "       [  2.47866537],\n",
       "       [  2.45926427],\n",
       "       [  4.39865918],\n",
       "       [  3.78582901],\n",
       "       [  8.13016648],\n",
       "       [  6.46413816],\n",
       "       [  2.54488841],\n",
       "       [  2.27033478],\n",
       "       [  3.80023424],\n",
       "       [  2.41551675],\n",
       "       [  3.3238814 ],\n",
       "       [  2.28952026],\n",
       "       [  2.17718693],\n",
       "       [  2.79641424],\n",
       "       [  2.09043288],\n",
       "       [  2.14957297],\n",
       "       [  2.82032214],\n",
       "       [  2.27942051],\n",
       "       [  2.42873525],\n",
       "       [  2.10372023],\n",
       "       [  2.37936453],\n",
       "       [  2.25180041],\n",
       "       [  1.92474232],\n",
       "       [  3.70413225],\n",
       "       [  2.24318005],\n",
       "       [  2.22630987],\n",
       "       [  2.28920372],\n",
       "       [  3.80514534],\n",
       "       [  2.27740012],\n",
       "       [  2.91562139],\n",
       "       [  2.42238439],\n",
       "       [  3.74083986],\n",
       "       [  2.28356177],\n",
       "       [  2.98427895],\n",
       "       [  2.13647409],\n",
       "       [  2.27118788],\n",
       "       [  2.14971388],\n",
       "       [  2.6800026 ],\n",
       "       [  3.87437584],\n",
       "       [  2.07014443],\n",
       "       [  2.08443957]])"
      ]
     },
     "execution_count": 688,
     "metadata": {},
     "output_type": "execute_result"
    }
   ],
   "source": [
    "lr.predict(X)"
   ]
  },
  {
   "cell_type": "code",
   "execution_count": null,
   "metadata": {
    "collapsed": true
   },
   "outputs": [],
   "source": []
  },
  {
   "cell_type": "code",
   "execution_count": null,
   "metadata": {
    "collapsed": true
   },
   "outputs": [],
   "source": [
    "Grid Search"
   ]
  },
  {
   "cell_type": "code",
   "execution_count": 691,
   "metadata": {},
   "outputs": [
    {
     "ename": "AttributeError",
     "evalue": "'LinearRegression' object has no attribute 'Ridge'",
     "output_type": "error",
     "traceback": [
      "\u001b[1;31m---------------------------------------------------------------------------\u001b[0m",
      "\u001b[1;31mAttributeError\u001b[0m                            Traceback (most recent call last)",
      "\u001b[1;32m<ipython-input-691-9b2c958edbe5>\u001b[0m in \u001b[0;36m<module>\u001b[1;34m()\u001b[0m\n\u001b[0;32m      3\u001b[0m \u001b[0malphas\u001b[0m \u001b[1;33m=\u001b[0m \u001b[0mnp\u001b[0m\u001b[1;33m.\u001b[0m\u001b[0mlogspace\u001b[0m\u001b[1;33m(\u001b[0m\u001b[1;33m-\u001b[0m\u001b[1;36m10\u001b[0m\u001b[1;33m,\u001b[0m \u001b[1;36m10\u001b[0m\u001b[1;33m,\u001b[0m \u001b[1;36m21\u001b[0m\u001b[1;33m)\u001b[0m\u001b[1;33m\u001b[0m\u001b[0m\n\u001b[0;32m      4\u001b[0m gs = grid_search.GridSearchCV(\n\u001b[1;32m----> 5\u001b[1;33m     \u001b[0mestimator\u001b[0m\u001b[1;33m=\u001b[0m\u001b[0mlr\u001b[0m\u001b[1;33m.\u001b[0m\u001b[0mRidge\u001b[0m\u001b[1;33m(\u001b[0m\u001b[1;33m)\u001b[0m\u001b[1;33m,\u001b[0m\u001b[1;33m\u001b[0m\u001b[0m\n\u001b[0m\u001b[0;32m      6\u001b[0m     \u001b[0mparam_grid\u001b[0m\u001b[1;33m=\u001b[0m\u001b[1;33m{\u001b[0m\u001b[1;34m'alpha'\u001b[0m\u001b[1;33m:\u001b[0m \u001b[0malphas\u001b[0m\u001b[1;33m}\u001b[0m\u001b[1;33m,\u001b[0m\u001b[1;33m\u001b[0m\u001b[0m\n\u001b[0;32m      7\u001b[0m     scoring='neg_mean_squared_error')\n",
      "\u001b[1;31mAttributeError\u001b[0m: 'LinearRegression' object has no attribute 'Ridge'"
     ]
    }
   ],
   "source": [
    "from sklearn import grid_search\n",
    "\n",
    "alphas = np.logspace(-10, 10, 21)\n",
    "gs = grid_search.GridSearchCV(\n",
    "    estimator=lr.Ridge(),\n",
    "    param_grid={'alpha': alphas},\n",
    "    scoring='neg_mean_squared_error')\n",
    "\n",
    "gs.fit(X, y)"
   ]
  },
  {
   "cell_type": "code",
   "execution_count": 692,
   "metadata": {},
   "outputs": [
    {
     "ename": "NameError",
     "evalue": "name 'gs' is not defined",
     "output_type": "error",
     "traceback": [
      "\u001b[1;31m---------------------------------------------------------------------------\u001b[0m",
      "\u001b[1;31mNameError\u001b[0m                                 Traceback (most recent call last)",
      "\u001b[1;32m<ipython-input-692-6f2668cc8418>\u001b[0m in \u001b[0;36m<module>\u001b[1;34m()\u001b[0m\n\u001b[1;32m----> 1\u001b[1;33m \u001b[1;32mprint\u001b[0m\u001b[1;33m(\u001b[0m\u001b[0mgs\u001b[0m\u001b[1;33m.\u001b[0m\u001b[0mbest_score_\u001b[0m\u001b[1;33m)\u001b[0m\u001b[1;33m\u001b[0m\u001b[0m\n\u001b[0m",
      "\u001b[1;31mNameError\u001b[0m: name 'gs' is not defined"
     ]
    }
   ],
   "source": [
    "print(gs.best_score_)"
   ]
  },
  {
   "cell_type": "code",
   "execution_count": 295,
   "metadata": {},
   "outputs": [
    {
     "name": "stdout",
     "output_type": "stream",
     "text": [
      "1.29206607478e-26\n"
     ]
    }
   ],
   "source": [
    "print(-gs.best_score_)"
   ]
  },
  {
   "cell_type": "code",
   "execution_count": 296,
   "metadata": {
    "collapsed": true
   },
   "outputs": [
    {
     "name": "stdout",
     "output_type": "stream",
     "text": [
      "Ridge(alpha=1e-10, copy_X=True, fit_intercept=True, max_iter=None,\n",
      "   normalize=False, random_state=None, solver='auto', tol=0.001)\n"
     ]
    }
   ],
   "source": [
    "print(gs.best_estimator_)"
   ]
  },
  {
   "cell_type": "code",
   "execution_count": null,
   "metadata": {
    "collapsed": true
   },
   "outputs": [],
   "source": []
  },
  {
   "cell_type": "code",
   "execution_count": 300,
   "metadata": {},
   "outputs": [
    {
     "name": "stdout",
     "output_type": "stream",
     "text": [
      "~~~ OLS ~~~\n",
      "('OLS MSE: ', 1.50578748205746e-29)\n",
      "('OLS R2:', 1.0)\n",
      "~~~ Lasso ~~~\n",
      "('Lasso MSE: ', 1.2043941989012539)\n",
      "('Lasso R2:', 0.88605520527553772)\n",
      "~~~ Ridge ~~~\n",
      "('Ridge MSE: ', 3.0612476896618743e-07)\n",
      "('Ridge R2:', 0.99999997103828286)\n"
     ]
    }
   ],
   "source": [
    "lm = linear_model.LinearRegression().fit(X, y)\n",
    "print(\"~~~ OLS ~~~\")\n",
    "print('OLS MSE: ', metrics.mean_squared_error(y, lm.predict(X)))\n",
    "print('OLS R2:', lm.score(X, y))\n",
    "\n",
    "lm = linear_model.Lasso().fit(X, y)\n",
    "print(\"~~~ Lasso ~~~\")\n",
    "print('Lasso MSE: ', metrics.mean_squared_error(y, lm.predict(X)))\n",
    "print('Lasso R2:', lm.score(X, y))\n",
    "\n",
    "lm = linear_model.Ridge().fit(X, y)\n",
    "print(\"~~~ Ridge ~~~\")\n",
    "print('Ridge MSE: ', metrics.mean_squared_error(y, lm.predict(X)))\n",
    "print('Ridge R2:', lm.score(X, y))"
   ]
  },
  {
   "cell_type": "code",
   "execution_count": null,
   "metadata": {
    "collapsed": true
   },
   "outputs": [],
   "source": []
  },
  {
   "cell_type": "code",
   "execution_count": 315,
   "metadata": {},
   "outputs": [
    {
     "data": {
      "text/plain": [
       "[('evdcfastcount', 0.2022868039030801)]"
      ]
     },
     "execution_count": 315,
     "metadata": {},
     "output_type": "execute_result"
    }
   ],
   "source": [
    "# create X and y\n",
    "feature_cols = ['evdcfastcount']\n",
    "X = df_final[feature_cols]\n",
    "y = df_final.ev_total_mean\n",
    "\n",
    "# instantiate, fit\n",
    "lr = LinearRegression()\n",
    "lr.fit(X, y)\n",
    "\n",
    "# print coefficients\n",
    "zip(feature_cols, lr.coef_)"
   ]
  },
  {
   "cell_type": "code",
   "execution_count": 316,
   "metadata": {},
   "outputs": [
    {
     "data": {
      "text/plain": [
       "array([ 0.37593849,  0.7805121 ,  0.37593849, ...,  1.99423292,\n",
       "        1.99423292,  1.99423292])"
      ]
     },
     "execution_count": 316,
     "metadata": {},
     "output_type": "execute_result"
    }
   ],
   "source": [
    "# Fast charger (looking strong)\n",
    "lr.predict(X)"
   ]
  },
  {
   "cell_type": "code",
   "execution_count": null,
   "metadata": {
    "collapsed": true
   },
   "outputs": [],
   "source": []
  },
  {
   "cell_type": "code",
   "execution_count": 318,
   "metadata": {},
   "outputs": [
    {
     "data": {
      "text/plain": [
       "[('evlevel1evsenum', 0.38323903669674492)]"
      ]
     },
     "execution_count": 318,
     "metadata": {},
     "output_type": "execute_result"
    }
   ],
   "source": [
    "# create X and y\n",
    "feature_cols = ['evlevel1evsenum']\n",
    "X = df_final[feature_cols]\n",
    "y = df_final.ev_total_mean\n",
    "\n",
    "# instantiate, fit\n",
    "lr = LinearRegression()\n",
    "lr.fit(X, y)\n",
    "\n",
    "# print coefficients\n",
    "zip(feature_cols, lr.coef_)"
   ]
  },
  {
   "cell_type": "code",
   "execution_count": 319,
   "metadata": {},
   "outputs": [
    {
     "data": {
      "text/plain": [
       "array([ 0.37639861,  0.37639861,  8.80765741, ...,  0.37639861,\n",
       "        0.37639861,  0.37639861])"
      ]
     },
     "execution_count": 319,
     "metadata": {},
     "output_type": "execute_result"
    }
   ],
   "source": [
    "# Simple 110 outlet (dying out)\n",
    "lr.predict(X)"
   ]
  },
  {
   "cell_type": "code",
   "execution_count": null,
   "metadata": {
    "collapsed": true
   },
   "outputs": [],
   "source": []
  },
  {
   "cell_type": "code",
   "execution_count": 320,
   "metadata": {},
   "outputs": [
    {
     "data": {
      "text/plain": [
       "[('evlevel2evsenum', 0.33297365580972665)]"
      ]
     },
     "execution_count": 320,
     "metadata": {},
     "output_type": "execute_result"
    }
   ],
   "source": [
    "# create X and y\n",
    "feature_cols = ['evlevel2evsenum']\n",
    "X = df_final[feature_cols]\n",
    "y = df_final.ev_total_mean\n",
    "\n",
    "# instantiate, fit\n",
    "lr = LinearRegression()\n",
    "lr.fit(X, y)\n",
    "\n",
    "# print coefficients\n",
    "zip(feature_cols, lr.coef_)"
   ]
  },
  {
   "cell_type": "code",
   "execution_count": 321,
   "metadata": {},
   "outputs": [
    {
     "data": {
      "text/plain": [
       "array([ 1.03877995,  0.7058063 ,  7.03230576, ..., -0.29311467,\n",
       "       -0.29311467, -0.29311467])"
      ]
     },
     "execution_count": 321,
     "metadata": {},
     "output_type": "execute_result"
    }
   ],
   "source": [
    "# Simple J1772 220 outlet (not looking too strong)\n",
    "lr.predict(X)"
   ]
  },
  {
   "cell_type": "code",
   "execution_count": null,
   "metadata": {
    "collapsed": true
   },
   "outputs": [],
   "source": [
    "# OUTCOME\n",
    "# Recommend 2 Super Chargers at individual locations (good for consumers and future compensation)"
   ]
  }
 ],
 "metadata": {
  "kernelspec": {
   "display_name": "Python 2",
   "language": "python",
   "name": "python2"
  },
  "language_info": {
   "codemirror_mode": {
    "name": "ipython",
    "version": 2
   },
   "file_extension": ".py",
   "mimetype": "text/x-python",
   "name": "python",
   "nbconvert_exporter": "python",
   "pygments_lexer": "ipython2",
   "version": "2.7.13"
  }
 },
 "nbformat": 4,
 "nbformat_minor": 2
}
